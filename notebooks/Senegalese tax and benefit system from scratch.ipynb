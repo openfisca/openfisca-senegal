{
 "cells": [
  {
   "cell_type": "markdown",
   "metadata": {},
   "source": [
    "# Senegalese tax and benefit system from scratch"
   ]
  },
  {
   "cell_type": "code",
   "execution_count": 1,
   "metadata": {
    "collapsed": false
   },
   "outputs": [],
   "source": [
    "%load_ext autoreload\n",
    "%autoreload 2"
   ]
  },
  {
   "cell_type": "code",
   "execution_count": 2,
   "metadata": {
    "collapsed": false,
    "scrolled": true
   },
   "outputs": [],
   "source": [
    "import numpy as np\n",
    "\n",
    "from openfisca_core.model_api import *\n",
    "from openfisca_senegal import SenegalTaxBenefitSystem\n",
    "from openfisca_senegal.entities import Person"
   ]
  },
  {
   "cell_type": "code",
   "execution_count": 3,
   "metadata": {
    "collapsed": false
   },
   "outputs": [],
   "source": [
    "tax_benefit_system = SenegalTaxBenefitSystem()"
   ]
  },
  {
   "cell_type": "markdown",
   "metadata": {},
   "source": [
    "Les paramètres de la législation sont définis ci-dessous via une string XML.\n",
    "\n",
    "Le barème de l'impôt progressif a été récupéré dans le fichier http://www.gouv.sn/IMG/pdf/cgi2013.pdf à la page 71."
   ]
  },
  {
   "cell_type": "code",
   "execution_count": 4,
   "metadata": {
    "collapsed": false
   },
   "outputs": [],
   "source": [
    "tax_benefit_system.add_legislation_params(u'''\n",
    "<NODE code=\"root\">\n",
    "  <BAREME code=\"bareme_impot_progressif\" type=\"monetary\">\n",
    "    <TRANCHE code=\"tranche0\">\n",
    "      <SEUIL>\n",
    "        <VALUE deb=\"2013-01-01\" valeur=\"0\" />\n",
    "      </SEUIL>\n",
    "      <TAUX>\n",
    "        <VALUE deb=\"2013-01-01\" valeur=\"0\" />\n",
    "      </TAUX>\n",
    "    </TRANCHE>\n",
    "    <TRANCHE code=\"tranche1\">\n",
    "      <SEUIL>\n",
    "        <VALUE deb=\"2013-01-01\" valeur=\"630000\" />\n",
    "      </SEUIL>\n",
    "      <TAUX>\n",
    "        <VALUE deb=\"2013-01-01\"  valeur=\"0.2\" />\n",
    "      </TAUX>\n",
    "    </TRANCHE>\n",
    "    <TRANCHE code=\"tranche2\">\n",
    "      <SEUIL>\n",
    "        <VALUE deb=\"2013-01-01\"  valeur=\"1500000\" />\n",
    "      </SEUIL>\n",
    "      <TAUX>\n",
    "        <VALUE deb=\"2013-01-01\"  valeur=\"0.3\" />\n",
    "      </TAUX>\n",
    "    </TRANCHE>\n",
    "    <TRANCHE code=\"tranche3\">\n",
    "      <SEUIL>\n",
    "        <VALUE deb=\"2013-01-01\"  valeur=\"4000000\" />\n",
    "      </SEUIL>\n",
    "      <TAUX>\n",
    "        <VALUE deb=\"2013-01-01\"  valeur=\"0.35\" />\n",
    "      </TAUX>\n",
    "    </TRANCHE>\n",
    "    <TRANCHE code=\"tranche4\">\n",
    "      <SEUIL>\n",
    "        <VALUE deb=\"2013-01-01\"  valeur=\"8000000\" />\n",
    "      </SEUIL>\n",
    "      <TAUX>\n",
    "        <VALUE deb=\"2013-01-01\"  valeur=\"0.37\" />\n",
    "      </TAUX>\n",
    "    </TRANCHE>\n",
    "    <TRANCHE code=\"tranche5\">\n",
    "      <SEUIL>\n",
    "        <VALUE deb=\"2013-01-01\"  valeur=\"13500000\" />\n",
    "      </SEUIL>\n",
    "      <TAUX>\n",
    "        <VALUE deb=\"2013-01-01\"  valeur=\"0.4\" />\n",
    "      </TAUX>\n",
    "    </TRANCHE>\n",
    "  </BAREME>\n",
    "  <NODE code=\"reductions_pour_charge_de_famille\">\n",
    "    <CODE code=\"taux_1\" format=\"percent\">\n",
    "      <VALUE deb=\"2013-01-01\"  valeur=\"0\" />\n",
    "    </CODE>\n",
    "    <CODE code=\"taux_2\" format=\"percent\">\n",
    "      <VALUE deb=\"2013-01-01\"  valeur=\"0.1\" />\n",
    "    </CODE>\n",
    "    <CODE code=\"taux_3\" format=\"percent\">\n",
    "      <VALUE deb=\"2013-01-01\"  valeur=\"0.15\" />\n",
    "    </CODE>\n",
    "    <CODE code=\"taux_4\" format=\"percent\">\n",
    "      <VALUE deb=\"2013-01-01\"  valeur=\"0.2\" />\n",
    "    </CODE>\n",
    "    <CODE code=\"taux_5\" format=\"percent\">\n",
    "      <VALUE deb=\"2013-01-01\"  valeur=\"0.25\" />\n",
    "    </CODE>\n",
    "    <CODE code=\"taux_6\" format=\"percent\">\n",
    "      <VALUE deb=\"2013-01-01\"  valeur=\"0.3\" />\n",
    "    </CODE>\n",
    "    <CODE code=\"taux_7\" format=\"percent\">\n",
    "      <VALUE deb=\"2013-01-01\"  valeur=\"0.35\" />\n",
    "    </CODE>\n",
    "    <CODE code=\"taux_8\" format=\"percent\">\n",
    "      <VALUE deb=\"2013-01-01\"  valeur=\"0.4\" />\n",
    "    </CODE>\n",
    "    <CODE code=\"taux_9\" format=\"percent\">\n",
    "      <VALUE deb=\"2013-01-01\"  valeur=\"0.45\" />\n",
    "    </CODE>\n",
    "    <CODE code=\"min_1\" type=\"monetary\">\n",
    "      <VALUE deb=\"2013-01-01\"  valeur=\"0\" />\n",
    "    </CODE>\n",
    "    <CODE code=\"min_2\" type=\"monetary\">\n",
    "      <VALUE deb=\"2013-01-01\"  valeur=\"100000\" />\n",
    "    </CODE>\n",
    "    <CODE code=\"min_3\" type=\"monetary\">\n",
    "      <VALUE deb=\"2013-01-01\"  valeur=\"200000\" />\n",
    "    </CODE>\n",
    "    <CODE code=\"min_4\" type=\"monetary\">\n",
    "      <VALUE deb=\"2013-01-01\"  valeur=\"300000\" />\n",
    "    </CODE>\n",
    "    <CODE code=\"min_5\" type=\"monetary\">\n",
    "      <VALUE deb=\"2013-01-01\"  valeur=\"400000\" />\n",
    "    </CODE>\n",
    "    <CODE code=\"min_6\" type=\"monetary\">\n",
    "      <VALUE deb=\"2013-01-01\"  valeur=\"500000\" />\n",
    "    </CODE>\n",
    "    <CODE code=\"min_7\" type=\"monetary\">\n",
    "      <VALUE deb=\"2013-01-01\"  valeur=\"600000\" />\n",
    "    </CODE>\n",
    "    <CODE code=\"min_8\" type=\"monetary\">\n",
    "      <VALUE deb=\"2013-01-01\"  valeur=\"700000\" />\n",
    "    </CODE>\n",
    "    <CODE code=\"min_9\" type=\"monetary\">\n",
    "      <VALUE deb=\"2013-01-01\"  valeur=\"800000\" />\n",
    "    </CODE>\n",
    "    <CODE code=\"max_1\" type=\"monetary\">\n",
    "      <VALUE deb=\"2013-01-01\"  valeur=\"0\" />\n",
    "    </CODE>\n",
    "    <CODE code=\"max_2\" type=\"monetary\">\n",
    "      <VALUE deb=\"2013-01-01\"  valeur=\"300000\" />\n",
    "    </CODE>\n",
    "    <CODE code=\"max_3\" type=\"monetary\">\n",
    "      <VALUE deb=\"2013-01-01\"  valeur=\"650000\" />\n",
    "    </CODE>\n",
    "    <CODE code=\"max_4\" type=\"monetary\">\n",
    "      <VALUE deb=\"2013-01-01\"  valeur=\"1100000\" />\n",
    "    </CODE>\n",
    "    <CODE code=\"max_5\" type=\"monetary\">\n",
    "      <VALUE deb=\"2013-01-01\"  valeur=\"1650000\" />\n",
    "    </CODE>\n",
    "    <CODE code=\"max_6\" type=\"monetary\">\n",
    "      <VALUE deb=\"2013-01-01\"  valeur=\"2030000\" />\n",
    "    </CODE>\n",
    "    <CODE code=\"max_7\" type=\"monetary\">\n",
    "      <VALUE deb=\"2013-01-01\"  valeur=\"2490000\" />\n",
    "    </CODE>\n",
    "    <CODE code=\"max_8\" type=\"monetary\">\n",
    "      <VALUE deb=\"2013-01-01\"  valeur=\"2755000\" />\n",
    "    </CODE>\n",
    "    <CODE code=\"max_9\" type=\"monetary\">\n",
    "      <VALUE deb=\"2013-01-01\"  valeur=\"3180000\" />\n",
    "    </CODE>\n",
    "  </NODE>\n",
    "</NODE>\n",
    "''')"
   ]
  },
  {
   "cell_type": "code",
   "execution_count": 5,
   "metadata": {
    "collapsed": false
   },
   "outputs": [
    {
     "data": {
      "text/plain": [
       "<openfisca_core.columns.FloatCol at 0x7ffbc847e790>"
      ]
     },
     "execution_count": 5,
     "metadata": {},
     "output_type": "execute_result"
    }
   ],
   "source": [
    "class date_de_naissance(Variable):\n",
    "    value_type = date\n",
    "    definition_period = ETERNITY\n",
    "    entity = Person\n",
    "    label = u\"Date de naissance\"\n",
    "\n",
    "    \n",
    "tax_benefit_system.update_variable(date_de_naissance)\n",
    "\n",
    "\n",
    "class salaire(Variable):\n",
    "    value_type = float\n",
    "    definition_period = YEAR\n",
    "    entity = Person\n",
    "    label = \"Salaire\"\n",
    "    set_input = set_input_divide_by_period\n",
    "\n",
    "tax_benefit_system.update_variable(salaire)\n",
    "\n"
   ]
  },
  {
   "cell_type": "code",
   "execution_count": 13,
   "metadata": {
    "collapsed": false
   },
   "outputs": [
    {
     "data": {
      "text/plain": [
       "<openfisca_core.columns.IntCol at 0x7ffbb0a23250>"
      ]
     },
     "execution_count": 13,
     "metadata": {},
     "output_type": "execute_result"
    }
   ],
   "source": [
    "class est_marie(Variable):\n",
    "    value_type = bool\n",
    "    definition_period = YEAR\n",
    "    entity = Person\n",
    "    label = u\"Est marié\"\n",
    "    set_input = set_input_dispatch_by_period\n",
    "\n",
    "tax_benefit_system.update_variable(est_marie)\n",
    "\n",
    "\n",
    "class conjoint_a_des_revenus(Variable):\n",
    "    value_type = bool\n",
    "    definition_period = YEAR\n",
    "    entity = Person\n",
    "\n",
    "tax_benefit_system.update_variable(conjoint_a_des_revenus)\n",
    "\n",
    "\n",
    "class nombre_enfants(Variable):\n",
    "    value_type = int\n",
    "    definition_period = YEAR\n",
    "    entity = Person\n",
    "\n",
    "tax_benefit_system.update_variable(nombre_enfants)"
   ]
  },
  {
   "cell_type": "code",
   "execution_count": 14,
   "metadata": {
    "collapsed": false
   },
   "outputs": [
    {
     "data": {
      "text/plain": [
       "<openfisca_core.columns.FloatCol at 0x7ffbc84eb290>"
      ]
     },
     "execution_count": 14,
     "metadata": {},
     "output_type": "execute_result"
    }
   ],
   "source": [
    "class nombre_de_parts(Variable):\n",
    "    value_type = float\n",
    "    definition_period = YEAR\n",
    "    entity = Person\n",
    "    label = u\"Nombre de parts\"\n",
    "\n",
    "    def formula(individu, period):\n",
    "        nombre_de_parts_enfants = individu('nombre_enfants', period) * 0.5\n",
    "\n",
    "        conjoint_a_des_revenus = individu('conjoint_a_des_revenus', period)\n",
    "        est_marie = individu('est_marie', period)\n",
    "        nombre_de_parts_conjoint = est_marie * 0.5 + (1 - conjoint_a_des_revenus) * 0.5\n",
    "\n",
    "        nombre_de_parts = 1 + nombre_de_parts_conjoint + nombre_de_parts_enfants\n",
    "\n",
    "        return np.minimum(5, nombre_de_parts)\n",
    "        \n",
    "\n",
    "tax_benefit_system.update_variable(nombre_de_parts)\n",
    "\n",
    "\n",
    "class impot_avant_reduction_famille(Variable):\n",
    "    value_type = float\n",
    "    definition_period = YEAR\n",
    "    entity = Person\n",
    "\n",
    "    def formula(individu, period, legislation):\n",
    "        salaire = individu('salaire', period, options = [ADD])\n",
    "        bareme_impot_progressif = legislation(period).bareme_impot_progressif\n",
    "        return bareme_impot_progressif.calc(salaire)\n",
    "\n",
    "tax_benefit_system.update_variable(impot_avant_reduction_famille)\n",
    "\n",
    "\n",
    "class reduction_impots_pour_charge_famille(Variable):\n",
    "    value_type = float\n",
    "    definition_period = YEAR\n",
    "    entity = Person\n",
    "\n",
    "    def formula(individu, period, legislation):\n",
    "        impot_avant_reduction_famille = individu('impot_avant_reduction_famille', period)\n",
    "        \n",
    "        nombre_de_parts = individu('nombre_de_parts', period)\n",
    "        reductions_pour_charge_de_famille = legislation(period).reductions_pour_charge_de_famille\n",
    "        taux = (nombre_de_parts == 1) * reductions_pour_charge_de_famille.taux_1 + \\\n",
    "            (nombre_de_parts == 1.5) * reductions_pour_charge_de_famille.taux_2 + \\\n",
    "            (nombre_de_parts == 2) * reductions_pour_charge_de_famille.taux_3 + \\\n",
    "            (nombre_de_parts == 2.5) * reductions_pour_charge_de_famille.taux_4 + \\\n",
    "            (nombre_de_parts == 3) * reductions_pour_charge_de_famille.taux_5 + \\\n",
    "            (nombre_de_parts == 3.5) * reductions_pour_charge_de_famille.taux_6 + \\\n",
    "            (nombre_de_parts == 4) * reductions_pour_charge_de_famille.taux_7 + \\\n",
    "            (nombre_de_parts == 4.5) * reductions_pour_charge_de_famille.taux_8 + \\\n",
    "            (nombre_de_parts == 5) * reductions_pour_charge_de_famille.taux_9\n",
    "        minimum = (nombre_de_parts == 1) * reductions_pour_charge_de_famille.min_1 + \\\n",
    "            (nombre_de_parts == 1.5) * reductions_pour_charge_de_famille.min_2 + \\\n",
    "            (nombre_de_parts == 2) * reductions_pour_charge_de_famille.min_3 + \\\n",
    "            (nombre_de_parts == 2.5) * reductions_pour_charge_de_famille.min_4 + \\\n",
    "            (nombre_de_parts == 3) * reductions_pour_charge_de_famille.min_5 + \\\n",
    "            (nombre_de_parts == 3.5) * reductions_pour_charge_de_famille.min_6 + \\\n",
    "            (nombre_de_parts == 4) * reductions_pour_charge_de_famille.min_7 + \\\n",
    "            (nombre_de_parts == 4.5) * reductions_pour_charge_de_famille.min_8 + \\\n",
    "            (nombre_de_parts == 5) * reductions_pour_charge_de_famille.min_9\n",
    "        maximum = (nombre_de_parts == 1) * reductions_pour_charge_de_famille.max_1 + \\\n",
    "            (nombre_de_parts == 1.5) * reductions_pour_charge_de_famille.max_2 + \\\n",
    "            (nombre_de_parts == 2) * reductions_pour_charge_de_famille.max_3 + \\\n",
    "            (nombre_de_parts == 2.5) * reductions_pour_charge_de_famille.max_4 + \\\n",
    "            (nombre_de_parts == 3) * reductions_pour_charge_de_famille.max_5 + \\\n",
    "            (nombre_de_parts == 3.5) * reductions_pour_charge_de_famille.max_6 + \\\n",
    "            (nombre_de_parts == 4) * reductions_pour_charge_de_famille.max_7 + \\\n",
    "            (nombre_de_parts == 4.5) * reductions_pour_charge_de_famille.max_8 + \\\n",
    "            (nombre_de_parts == 5) * reductions_pour_charge_de_famille.max_9\n",
    "        reduction_impot = np.clip(impot_avant_reduction_famille * taux, a_min=minimum, a_max=maximum)\n",
    "        return reduction_impot\n",
    "\n",
    "tax_benefit_system.update_variable(reduction_impots_pour_charge_famille)\n",
    "\n",
    "\n",
    "class impot_revenus(Variable):\n",
    "    value_type = float\n",
    "    definition_period = YEAR\n",
    "    entity = Person\n",
    "\n",
    "    def formula(individu, period):\n",
    "        impot_avant_reduction_famille = individu('impot_avant_reduction_famille', period)\n",
    "        reduction_impots_pour_charge_famille = individu('reduction_impots_pour_charge_famille', period)\n",
    "        impot_apres_reduction_famille = impot_avant_reduction_famille - reduction_impots_pour_charge_famille\n",
    "        return np.maximum(0, impot_apres_reduction_famille)\n",
    "\n",
    "tax_benefit_system.update_variable(impot_revenus)"
   ]
  },
  {
   "cell_type": "code",
   "execution_count": 15,
   "metadata": {
    "collapsed": true
   },
   "outputs": [],
   "source": [
    "scenario = tax_benefit_system.new_scenario()"
   ]
  },
  {
   "cell_type": "code",
   "execution_count": 16,
   "metadata": {
    "collapsed": false
   },
   "outputs": [
    {
     "data": {
      "text/plain": [
       "<openfisca_senegal.scenarios.Scenario at 0x7ffbb0a17a50>"
      ]
     },
     "execution_count": 16,
     "metadata": {},
     "output_type": "execute_result"
    }
   ],
   "source": [
    "scenario.init_single_entity(\n",
    "    parent1={\n",
    "        'salaire': 1800000,\n",
    "        'est_marie': True,\n",
    "        'conjoint_a_des_revenus': False,\n",
    "        'nombre_enfants': 2,\n",
    "    },\n",
    "    period='2015',\n",
    ")"
   ]
  },
  {
   "cell_type": "code",
   "execution_count": 17,
   "metadata": {
    "collapsed": false
   },
   "outputs": [],
   "source": [
    "simulation = scenario.new_simulation()"
   ]
  },
  {
   "cell_type": "code",
   "execution_count": 18,
   "metadata": {
    "collapsed": false
   },
   "outputs": [
    {
     "data": {
      "text/plain": [
       "array([ 1800000.], dtype=float32)"
      ]
     },
     "execution_count": 18,
     "metadata": {},
     "output_type": "execute_result"
    }
   ],
   "source": [
    "simulation.individu('salaire', period='2015')"
   ]
  },
  {
   "cell_type": "code",
   "execution_count": 19,
   "metadata": {
    "collapsed": false
   },
   "outputs": [
    {
     "ename": "IOError",
     "evalue": "[Errno 36] File name too long: u'\\n<NODE code=\"root\">\\n  <BAREME code=\"bareme_impot_progressif\" type=\"monetary\">\\n    <TRANCHE code=\"tranche0\">\\n      <SEUIL>\\n        <VALUE deb=\"2013-01-01\" valeur=\"0\" />\\n      </SEUIL>\\n      <TAUX>\\n        <VALUE deb=\"2013-01-01\" valeur=\"0\" />\\n      </TAUX>\\n    </TRANCHE>\\n    <TRANCHE code=\"tranche1\">\\n      <SEUIL>\\n        <VALUE deb=\"2013-01-01\" valeur=\"630000\" />\\n      </SEUIL>\\n      <TAUX>\\n        <VALUE deb=\"2013-01-01\"  valeur=\"0.2\" />\\n      </TAUX>\\n    </TRANCHE>\\n    <TRANCHE code=\"tranche2\">\\n      <SEUIL>\\n        <VALUE deb=\"2013-01-01\"  valeur=\"1500000\" />\\n      </SEUIL>\\n      <TAUX>\\n        <VALUE deb=\"2013-01-01\"  valeur=\"0.3\" />\\n      </TAUX>\\n    </TRANCHE>\\n    <TRANCHE code=\"tranche3\">\\n      <SEUIL>\\n        <VALUE deb=\"2013-01-01\"  valeur=\"4000000\" />\\n      </SEUIL>\\n      <TAUX>\\n        <VALUE deb=\"2013-01-01\"  valeur=\"0.35\" />\\n      </TAUX>\\n    </TRANCHE>\\n    <TRANCHE code=\"tranche4\">\\n      <SEUIL>\\n        <VALUE deb=\"2013-01-01\"  valeur=\"8000000\" />\\n      </SEUIL>\\n      <TAUX>\\n        <VALUE deb=\"2013-01-01\"  valeur=\"0.37\" />\\n      </TAUX>\\n    </TRANCHE>\\n    <TRANCHE code=\"tranche5\">\\n      <SEUIL>\\n        <VALUE deb=\"2013-01-01\"  valeur=\"13500000\" />\\n      </SEUIL>\\n      <TAUX>\\n        <VALUE deb=\"2013-01-01\"  valeur=\"0.4\" />\\n      </TAUX>\\n    </TRANCHE>\\n  </BAREME>\\n  <NODE code=\"reductions_pour_charge_de_famille\">\\n    <CODE code=\"taux_1\" format=\"percent\">\\n      <VALUE deb=\"2013-01-01\"  valeur=\"0\" />\\n    </CODE>\\n    <CODE code=\"taux_2\" format=\"percent\">\\n      <VALUE deb=\"2013-01-01\"  valeur=\"0.1\" />\\n    </CODE>\\n    <CODE code=\"taux_3\" format=\"percent\">\\n      <VALUE deb=\"2013-01-01\"  valeur=\"0.15\" />\\n    </CODE>\\n    <CODE code=\"taux_4\" format=\"percent\">\\n      <VALUE deb=\"2013-01-01\"  valeur=\"0.2\" />\\n    </CODE>\\n    <CODE code=\"taux_5\" format=\"percent\">\\n      <VALUE deb=\"2013-01-01\"  valeur=\"0.25\" />\\n    </CODE>\\n    <CODE code=\"taux_6\" format=\"percent\">\\n      <VALUE deb=\"2013-01-01\"  valeur=\"0.3\" />\\n    </CODE>\\n    <CODE code=\"taux_7\" format=\"percent\">\\n      <VALUE deb=\"2013-01-01\"  valeur=\"0.35\" />\\n    </CODE>\\n    <CODE code=\"taux_8\" format=\"percent\">\\n      <VALUE deb=\"2013-01-01\"  valeur=\"0.4\" />\\n    </CODE>\\n    <CODE code=\"taux_9\" format=\"percent\">\\n      <VALUE deb=\"2013-01-01\"  valeur=\"0.45\" />\\n    </CODE>\\n    <CODE code=\"min_1\" type=\"monetary\">\\n      <VALUE deb=\"2013-01-01\"  valeur=\"0\" />\\n    </CODE>\\n    <CODE code=\"min_2\" type=\"monetary\">\\n      <VALUE deb=\"2013-01-01\"  valeur=\"100000\" />\\n    </CODE>\\n    <CODE code=\"min_3\" type=\"monetary\">\\n      <VALUE deb=\"2013-01-01\"  valeur=\"200000\" />\\n    </CODE>\\n    <CODE code=\"min_4\" type=\"monetary\">\\n      <VALUE deb=\"2013-01-01\"  valeur=\"300000\" />\\n    </CODE>\\n    <CODE code=\"min_5\" type=\"monetary\">\\n      <VALUE deb=\"2013-01-01\"  valeur=\"400000\" />\\n    </CODE>\\n    <CODE code=\"min_6\" type=\"monetary\">\\n      <VALUE deb=\"2013-01-01\"  valeur=\"500000\" />\\n    </CODE>\\n    <CODE code=\"min_7\" type=\"monetary\">\\n      <VALUE deb=\"2013-01-01\"  valeur=\"600000\" />\\n    </CODE>\\n    <CODE code=\"min_8\" type=\"monetary\">\\n      <VALUE deb=\"2013-01-01\"  valeur=\"700000\" />\\n    </CODE>\\n    <CODE code=\"min_9\" type=\"monetary\">\\n      <VALUE deb=\"2013-01-01\"  valeur=\"800000\" />\\n    </CODE>\\n    <CODE code=\"max_1\" type=\"monetary\">\\n      <VALUE deb=\"2013-01-01\"  valeur=\"0\" />\\n    </CODE>\\n    <CODE code=\"max_2\" type=\"monetary\">\\n      <VALUE deb=\"2013-01-01\"  valeur=\"300000\" />\\n    </CODE>\\n    <CODE code=\"max_3\" type=\"monetary\">\\n      <VALUE deb=\"2013-01-01\"  valeur=\"650000\" />\\n    </CODE>\\n    <CODE code=\"max_4\" type=\"monetary\">\\n      <VALUE deb=\"2013-01-01\"  valeur=\"1100000\" />\\n    </CODE>\\n    <CODE code=\"max_5\" type=\"monetary\">\\n      <VALUE deb=\"2013-01-01\"  valeur=\"1650000\" />\\n    </CODE>\\n    <CODE code=\"max_6\" type=\"monetary\">\\n      <VALUE deb=\"2013-01-01\"  valeur=\"2030000\" />\\n    </CODE>\\n    <CODE code=\"max_7\" type=\"monetary\">\\n      <VALUE deb=\"2013-01-01\"  valeur=\"2490000\" />\\n    </CODE>\\n    <CODE code=\"max_8\" type=\"monetary\">\\n      <VALUE deb=\"2013-01-01\"  valeur=\"2755000\" />\\n    </CODE>\\n    <CODE code=\"max_9\" type=\"monetary\">\\n      <VALUE deb=\"2013-01-01\"  valeur=\"3180000\" />\\n    </CODE>\\n  </NODE>\\n</NODE>\\n'",
     "output_type": "error",
     "traceback": [
      "\u001b[0;31m---------------------------------------------------------------------------\u001b[0m",
      "\u001b[0;31mIOError\u001b[0m                                   Traceback (most recent call last)",
      "\u001b[0;32m<ipython-input-19-ca87f8a0b1fa>\u001b[0m in \u001b[0;36m<module>\u001b[0;34m()\u001b[0m\n\u001b[0;32m----> 1\u001b[0;31m \u001b[0msimulation\u001b[0m\u001b[0;34m.\u001b[0m\u001b[0mindividu\u001b[0m\u001b[0;34m(\u001b[0m\u001b[0;34m'impot_avant_reduction_famille'\u001b[0m\u001b[0;34m,\u001b[0m \u001b[0mperiod\u001b[0m\u001b[0;34m=\u001b[0m\u001b[0;34m'2015'\u001b[0m\u001b[0;34m)\u001b[0m\u001b[0;34m\u001b[0m\u001b[0m\n\u001b[0m",
      "\u001b[0;32m/home/benjello/openfisca/openfisca-core/openfisca_core/entities.pyc\u001b[0m in \u001b[0;36m__call__\u001b[0;34m(self, variable_name, period, options, **parameters)\u001b[0m\n\u001b[1;32m    182\u001b[0m             \u001b[0;32mreturn\u001b[0m \u001b[0mself\u001b[0m\u001b[0;34m.\u001b[0m\u001b[0msimulation\u001b[0m\u001b[0;34m.\u001b[0m\u001b[0mcalculate_divide\u001b[0m\u001b[0;34m(\u001b[0m\u001b[0mvariable_name\u001b[0m\u001b[0;34m,\u001b[0m \u001b[0mperiod\u001b[0m\u001b[0;34m,\u001b[0m \u001b[0;34m**\u001b[0m\u001b[0mparameters\u001b[0m\u001b[0;34m)\u001b[0m\u001b[0;34m\u001b[0m\u001b[0m\n\u001b[1;32m    183\u001b[0m         \u001b[0;32melse\u001b[0m\u001b[0;34m:\u001b[0m\u001b[0;34m\u001b[0m\u001b[0m\n\u001b[0;32m--> 184\u001b[0;31m             \u001b[0;32mreturn\u001b[0m \u001b[0mself\u001b[0m\u001b[0;34m.\u001b[0m\u001b[0msimulation\u001b[0m\u001b[0;34m.\u001b[0m\u001b[0mcalculate\u001b[0m\u001b[0;34m(\u001b[0m\u001b[0mvariable_name\u001b[0m\u001b[0;34m,\u001b[0m \u001b[0mperiod\u001b[0m\u001b[0;34m,\u001b[0m \u001b[0;34m**\u001b[0m\u001b[0mparameters\u001b[0m\u001b[0;34m)\u001b[0m\u001b[0;34m\u001b[0m\u001b[0m\n\u001b[0m\u001b[1;32m    185\u001b[0m \u001b[0;34m\u001b[0m\u001b[0m\n\u001b[1;32m    186\u001b[0m     \u001b[0;31m# Helpers\u001b[0m\u001b[0;34m\u001b[0m\u001b[0;34m\u001b[0m\u001b[0m\n",
      "\u001b[0;32m/home/benjello/openfisca/openfisca-core/openfisca_core/simulations.pyc\u001b[0m in \u001b[0;36mcalculate\u001b[0;34m(self, column_name, period, **parameters)\u001b[0m\n\u001b[1;32m    109\u001b[0m \u001b[0;34m\u001b[0m\u001b[0m\n\u001b[1;32m    110\u001b[0m     \u001b[0;32mdef\u001b[0m \u001b[0mcalculate\u001b[0m\u001b[0;34m(\u001b[0m\u001b[0mself\u001b[0m\u001b[0;34m,\u001b[0m \u001b[0mcolumn_name\u001b[0m\u001b[0;34m,\u001b[0m \u001b[0mperiod\u001b[0m\u001b[0;34m,\u001b[0m \u001b[0;34m**\u001b[0m\u001b[0mparameters\u001b[0m\u001b[0;34m)\u001b[0m\u001b[0;34m:\u001b[0m\u001b[0;34m\u001b[0m\u001b[0m\n\u001b[0;32m--> 111\u001b[0;31m         \u001b[0;32mreturn\u001b[0m \u001b[0mself\u001b[0m\u001b[0;34m.\u001b[0m\u001b[0mcompute\u001b[0m\u001b[0;34m(\u001b[0m\u001b[0mcolumn_name\u001b[0m\u001b[0;34m,\u001b[0m \u001b[0mperiod\u001b[0m \u001b[0;34m=\u001b[0m \u001b[0mperiod\u001b[0m\u001b[0;34m,\u001b[0m \u001b[0;34m**\u001b[0m\u001b[0mparameters\u001b[0m\u001b[0;34m)\u001b[0m\u001b[0;34m.\u001b[0m\u001b[0marray\u001b[0m\u001b[0;34m\u001b[0m\u001b[0m\n\u001b[0m\u001b[1;32m    112\u001b[0m \u001b[0;34m\u001b[0m\u001b[0m\n\u001b[1;32m    113\u001b[0m     \u001b[0;32mdef\u001b[0m \u001b[0mcalculate_add\u001b[0m\u001b[0;34m(\u001b[0m\u001b[0mself\u001b[0m\u001b[0;34m,\u001b[0m \u001b[0mcolumn_name\u001b[0m\u001b[0;34m,\u001b[0m \u001b[0mperiod\u001b[0m\u001b[0;34m,\u001b[0m \u001b[0;34m**\u001b[0m\u001b[0mparameters\u001b[0m\u001b[0;34m)\u001b[0m\u001b[0;34m:\u001b[0m\u001b[0;34m\u001b[0m\u001b[0m\n",
      "\u001b[0;32m/home/benjello/openfisca/openfisca-core/openfisca_core/simulations.pyc\u001b[0m in \u001b[0;36mcompute\u001b[0;34m(self, column_name, period, **parameters)\u001b[0m\n\u001b[1;32m    164\u001b[0m                 \u001b[0mcaller_input_variables_infos\u001b[0m\u001b[0;34m.\u001b[0m\u001b[0mappend\u001b[0m\u001b[0;34m(\u001b[0m\u001b[0mvariable_infos\u001b[0m\u001b[0;34m)\u001b[0m\u001b[0;34m\u001b[0m\u001b[0m\n\u001b[1;32m    165\u001b[0m         \u001b[0mholder\u001b[0m \u001b[0;34m=\u001b[0m \u001b[0mself\u001b[0m\u001b[0;34m.\u001b[0m\u001b[0mget_variable_entity\u001b[0m\u001b[0;34m(\u001b[0m\u001b[0mcolumn_name\u001b[0m\u001b[0;34m)\u001b[0m\u001b[0;34m.\u001b[0m\u001b[0mget_holder\u001b[0m\u001b[0;34m(\u001b[0m\u001b[0mcolumn_name\u001b[0m\u001b[0;34m)\u001b[0m\u001b[0;34m\u001b[0m\u001b[0m\n\u001b[0;32m--> 166\u001b[0;31m         \u001b[0mresult\u001b[0m \u001b[0;34m=\u001b[0m \u001b[0mholder\u001b[0m\u001b[0;34m.\u001b[0m\u001b[0mcompute\u001b[0m\u001b[0;34m(\u001b[0m\u001b[0mperiod\u001b[0m \u001b[0;34m=\u001b[0m \u001b[0mperiod\u001b[0m\u001b[0;34m,\u001b[0m \u001b[0;34m**\u001b[0m\u001b[0mparameters\u001b[0m\u001b[0;34m)\u001b[0m\u001b[0;34m\u001b[0m\u001b[0m\n\u001b[0m\u001b[1;32m    167\u001b[0m         \u001b[0;32mreturn\u001b[0m \u001b[0mresult\u001b[0m\u001b[0;34m\u001b[0m\u001b[0m\n\u001b[1;32m    168\u001b[0m \u001b[0;34m\u001b[0m\u001b[0m\n",
      "\u001b[0;32m/home/benjello/openfisca/openfisca-core/openfisca_core/holders.pyc\u001b[0m in \u001b[0;36mcompute\u001b[0;34m(self, period, **parameters)\u001b[0m\n\u001b[1;32m    157\u001b[0m \u001b[0;34m\u001b[0m\u001b[0m\n\u001b[1;32m    158\u001b[0m         \u001b[0;31m# Request a computation\u001b[0m\u001b[0;34m\u001b[0m\u001b[0;34m\u001b[0m\u001b[0m\n\u001b[0;32m--> 159\u001b[0;31m         \u001b[0mdated_holder\u001b[0m \u001b[0;34m=\u001b[0m \u001b[0mself\u001b[0m\u001b[0;34m.\u001b[0m\u001b[0mformula\u001b[0m\u001b[0;34m.\u001b[0m\u001b[0mcompute\u001b[0m\u001b[0;34m(\u001b[0m\u001b[0mperiod\u001b[0m \u001b[0;34m=\u001b[0m \u001b[0mperiod\u001b[0m\u001b[0;34m,\u001b[0m \u001b[0;34m**\u001b[0m\u001b[0mparameters\u001b[0m\u001b[0;34m)\u001b[0m\u001b[0;34m\u001b[0m\u001b[0m\n\u001b[0m\u001b[1;32m    160\u001b[0m         \u001b[0mformula_dated_holder\u001b[0m \u001b[0;34m=\u001b[0m \u001b[0mself\u001b[0m\u001b[0;34m.\u001b[0m\u001b[0mput_in_cache\u001b[0m\u001b[0;34m(\u001b[0m\u001b[0mdated_holder\u001b[0m\u001b[0;34m.\u001b[0m\u001b[0marray\u001b[0m\u001b[0;34m,\u001b[0m \u001b[0mperiod\u001b[0m\u001b[0;34m,\u001b[0m \u001b[0mextra_params\u001b[0m\u001b[0;34m)\u001b[0m\u001b[0;34m\u001b[0m\u001b[0m\n\u001b[1;32m    161\u001b[0m         \u001b[0;32mreturn\u001b[0m \u001b[0mformula_dated_holder\u001b[0m\u001b[0;34m\u001b[0m\u001b[0m\n",
      "\u001b[0;32m/home/benjello/openfisca/openfisca-core/openfisca_core/formulas.pyc\u001b[0m in \u001b[0;36mcompute\u001b[0;34m(self, period, **parameters)\u001b[0m\n\u001b[1;32m    423\u001b[0m                 \u001b[0marray\u001b[0m \u001b[0;34m=\u001b[0m \u001b[0mself\u001b[0m\u001b[0;34m.\u001b[0m\u001b[0mbase_function\u001b[0m\u001b[0;34m(\u001b[0m\u001b[0msimulation\u001b[0m\u001b[0;34m,\u001b[0m \u001b[0mperiod\u001b[0m\u001b[0;34m,\u001b[0m \u001b[0;34m*\u001b[0m\u001b[0mextra_params\u001b[0m\u001b[0;34m)\u001b[0m\u001b[0;34m\u001b[0m\u001b[0m\n\u001b[1;32m    424\u001b[0m             \u001b[0;32melse\u001b[0m\u001b[0;34m:\u001b[0m\u001b[0;34m\u001b[0m\u001b[0m\n\u001b[0;32m--> 425\u001b[0;31m                 \u001b[0marray\u001b[0m \u001b[0;34m=\u001b[0m \u001b[0mself\u001b[0m\u001b[0;34m.\u001b[0m\u001b[0mbase_function\u001b[0m\u001b[0;34m(\u001b[0m\u001b[0msimulation\u001b[0m\u001b[0;34m,\u001b[0m \u001b[0mperiod\u001b[0m\u001b[0;34m)\u001b[0m\u001b[0;34m\u001b[0m\u001b[0m\n\u001b[0m\u001b[1;32m    426\u001b[0m         \u001b[0;32mexcept\u001b[0m \u001b[0mCycleError\u001b[0m\u001b[0;34m:\u001b[0m\u001b[0;34m\u001b[0m\u001b[0m\n\u001b[1;32m    427\u001b[0m             \u001b[0mself\u001b[0m\u001b[0;34m.\u001b[0m\u001b[0mclean_cycle_detection_data\u001b[0m\u001b[0;34m(\u001b[0m\u001b[0;34m)\u001b[0m\u001b[0;34m\u001b[0m\u001b[0m\n",
      "\u001b[0;32m/home/benjello/openfisca/openfisca-core/openfisca_core/base_functions.pyc\u001b[0m in \u001b[0;36mrequested_period_default_value\u001b[0;34m(formula, simulation, period, *extra_params)\u001b[0m\n\u001b[1;32m     55\u001b[0m \u001b[0;32mdef\u001b[0m \u001b[0mrequested_period_default_value\u001b[0m\u001b[0;34m(\u001b[0m\u001b[0mformula\u001b[0m\u001b[0;34m,\u001b[0m \u001b[0msimulation\u001b[0m\u001b[0;34m,\u001b[0m \u001b[0mperiod\u001b[0m\u001b[0;34m,\u001b[0m \u001b[0;34m*\u001b[0m\u001b[0mextra_params\u001b[0m\u001b[0;34m)\u001b[0m\u001b[0;34m:\u001b[0m\u001b[0;34m\u001b[0m\u001b[0m\n\u001b[1;32m     56\u001b[0m     \u001b[0;32mif\u001b[0m \u001b[0mformula\u001b[0m\u001b[0;34m.\u001b[0m\u001b[0mfind_function\u001b[0m\u001b[0;34m(\u001b[0m\u001b[0mperiod\u001b[0m\u001b[0;34m)\u001b[0m \u001b[0;32mis\u001b[0m \u001b[0;32mnot\u001b[0m \u001b[0mNone\u001b[0m\u001b[0;34m:\u001b[0m\u001b[0;34m\u001b[0m\u001b[0m\n\u001b[0;32m---> 57\u001b[0;31m         \u001b[0;32mreturn\u001b[0m \u001b[0mformula\u001b[0m\u001b[0;34m.\u001b[0m\u001b[0mexec_function\u001b[0m\u001b[0;34m(\u001b[0m\u001b[0msimulation\u001b[0m\u001b[0;34m,\u001b[0m \u001b[0mperiod\u001b[0m\u001b[0;34m,\u001b[0m \u001b[0;34m*\u001b[0m\u001b[0mextra_params\u001b[0m\u001b[0;34m)\u001b[0m\u001b[0;34m\u001b[0m\u001b[0m\n\u001b[0m\u001b[1;32m     58\u001b[0m     \u001b[0mholder\u001b[0m \u001b[0;34m=\u001b[0m \u001b[0mformula\u001b[0m\u001b[0;34m.\u001b[0m\u001b[0mholder\u001b[0m\u001b[0;34m\u001b[0m\u001b[0m\n\u001b[1;32m     59\u001b[0m     \u001b[0marray\u001b[0m \u001b[0;34m=\u001b[0m \u001b[0mholder\u001b[0m\u001b[0;34m.\u001b[0m\u001b[0mdefault_array\u001b[0m\u001b[0;34m(\u001b[0m\u001b[0;34m)\u001b[0m\u001b[0;34m\u001b[0m\u001b[0m\n",
      "\u001b[0;32m/home/benjello/openfisca/openfisca-core/openfisca_core/formulas.pyc\u001b[0m in \u001b[0;36mexec_function\u001b[0;34m(self, simulation, period, *extra_params)\u001b[0m\n\u001b[1;32m    529\u001b[0m                 \u001b[0;32mreturn\u001b[0m \u001b[0mfunction\u001b[0m\u001b[0;34m(\u001b[0m\u001b[0mentity\u001b[0m\u001b[0;34m,\u001b[0m \u001b[0mperiod\u001b[0m\u001b[0;34m)\u001b[0m\u001b[0;34m\u001b[0m\u001b[0m\n\u001b[1;32m    530\u001b[0m             \u001b[0;32melse\u001b[0m\u001b[0;34m:\u001b[0m\u001b[0;34m\u001b[0m\u001b[0m\n\u001b[0;32m--> 531\u001b[0;31m                 \u001b[0;32mreturn\u001b[0m \u001b[0mfunction\u001b[0m\u001b[0;34m(\u001b[0m\u001b[0mentity\u001b[0m\u001b[0;34m,\u001b[0m \u001b[0mperiod\u001b[0m\u001b[0;34m,\u001b[0m \u001b[0mlegislation\u001b[0m\u001b[0;34m,\u001b[0m \u001b[0;34m*\u001b[0m\u001b[0mextra_params\u001b[0m\u001b[0;34m)\u001b[0m\u001b[0;34m\u001b[0m\u001b[0m\n\u001b[0m\u001b[1;32m    532\u001b[0m \u001b[0;34m\u001b[0m\u001b[0m\n\u001b[1;32m    533\u001b[0m     \u001b[0;32mdef\u001b[0m \u001b[0mgraph_parameters\u001b[0m\u001b[0;34m(\u001b[0m\u001b[0mself\u001b[0m\u001b[0;34m,\u001b[0m \u001b[0medges\u001b[0m\u001b[0;34m,\u001b[0m \u001b[0mget_input_variables_and_parameters\u001b[0m\u001b[0;34m,\u001b[0m \u001b[0mnodes\u001b[0m\u001b[0;34m,\u001b[0m \u001b[0mvisited\u001b[0m\u001b[0;34m)\u001b[0m\u001b[0;34m:\u001b[0m\u001b[0;34m\u001b[0m\u001b[0m\n",
      "\u001b[0;32m<ipython-input-14-351588cf0b46>\u001b[0m in \u001b[0;36mformula\u001b[0;34m(individu, period, legislation)\u001b[0m\n\u001b[1;32m     27\u001b[0m     \u001b[0;32mdef\u001b[0m \u001b[0mformula\u001b[0m\u001b[0;34m(\u001b[0m\u001b[0mindividu\u001b[0m\u001b[0;34m,\u001b[0m \u001b[0mperiod\u001b[0m\u001b[0;34m,\u001b[0m \u001b[0mlegislation\u001b[0m\u001b[0;34m)\u001b[0m\u001b[0;34m:\u001b[0m\u001b[0;34m\u001b[0m\u001b[0m\n\u001b[1;32m     28\u001b[0m         \u001b[0msalaire\u001b[0m \u001b[0;34m=\u001b[0m \u001b[0mindividu\u001b[0m\u001b[0;34m(\u001b[0m\u001b[0;34m'salaire'\u001b[0m\u001b[0;34m,\u001b[0m \u001b[0mperiod\u001b[0m\u001b[0;34m,\u001b[0m \u001b[0moptions\u001b[0m \u001b[0;34m=\u001b[0m \u001b[0;34m[\u001b[0m\u001b[0mADD\u001b[0m\u001b[0;34m]\u001b[0m\u001b[0;34m)\u001b[0m\u001b[0;34m\u001b[0m\u001b[0m\n\u001b[0;32m---> 29\u001b[0;31m         \u001b[0mbareme_impot_progressif\u001b[0m \u001b[0;34m=\u001b[0m \u001b[0mlegislation\u001b[0m\u001b[0;34m(\u001b[0m\u001b[0mperiod\u001b[0m\u001b[0;34m)\u001b[0m\u001b[0;34m.\u001b[0m\u001b[0mbareme_impot_progressif\u001b[0m\u001b[0;34m\u001b[0m\u001b[0m\n\u001b[0m\u001b[1;32m     30\u001b[0m         \u001b[0;32mreturn\u001b[0m \u001b[0mbareme_impot_progressif\u001b[0m\u001b[0;34m.\u001b[0m\u001b[0mcalc\u001b[0m\u001b[0;34m(\u001b[0m\u001b[0msalaire\u001b[0m\u001b[0;34m)\u001b[0m\u001b[0;34m\u001b[0m\u001b[0m\n\u001b[1;32m     31\u001b[0m \u001b[0;34m\u001b[0m\u001b[0m\n",
      "\u001b[0;32m/home/benjello/openfisca/openfisca-core/openfisca_core/simulations.pyc\u001b[0m in \u001b[0;36mlegislation_at\u001b[0;34m(self, instant, reference)\u001b[0m\n\u001b[1;32m    256\u001b[0m         \u001b[0;32mif\u001b[0m \u001b[0mreference\u001b[0m\u001b[0;34m:\u001b[0m\u001b[0;34m\u001b[0m\u001b[0m\n\u001b[1;32m    257\u001b[0m             \u001b[0;32mreturn\u001b[0m \u001b[0mself\u001b[0m\u001b[0;34m.\u001b[0m\u001b[0mget_reference_compact_legislation\u001b[0m\u001b[0;34m(\u001b[0m\u001b[0minstant\u001b[0m\u001b[0;34m)\u001b[0m\u001b[0;34m\u001b[0m\u001b[0m\n\u001b[0;32m--> 258\u001b[0;31m         \u001b[0;32mreturn\u001b[0m \u001b[0mself\u001b[0m\u001b[0;34m.\u001b[0m\u001b[0mget_compact_legislation\u001b[0m\u001b[0;34m(\u001b[0m\u001b[0minstant\u001b[0m\u001b[0;34m)\u001b[0m\u001b[0;34m\u001b[0m\u001b[0m\n\u001b[0m\u001b[1;32m    259\u001b[0m \u001b[0;34m\u001b[0m\u001b[0m\n\u001b[1;32m    260\u001b[0m     \u001b[0;32mdef\u001b[0m \u001b[0mfind_traceback_step\u001b[0m\u001b[0;34m(\u001b[0m\u001b[0mself\u001b[0m\u001b[0;34m,\u001b[0m \u001b[0mvariable_name\u001b[0m\u001b[0;34m,\u001b[0m \u001b[0mperiod\u001b[0m\u001b[0;34m)\u001b[0m\u001b[0;34m:\u001b[0m\u001b[0;34m\u001b[0m\u001b[0m\n",
      "\u001b[0;32m/home/benjello/openfisca/openfisca-core/openfisca_core/simulations.pyc\u001b[0m in \u001b[0;36mget_compact_legislation\u001b[0;34m(self, instant)\u001b[0m\n\u001b[1;32m    207\u001b[0m             compact_legislation = self.tax_benefit_system.get_compact_legislation(\n\u001b[1;32m    208\u001b[0m                 \u001b[0minstant\u001b[0m \u001b[0;34m=\u001b[0m \u001b[0minstant\u001b[0m\u001b[0;34m,\u001b[0m\u001b[0;34m\u001b[0m\u001b[0m\n\u001b[0;32m--> 209\u001b[0;31m                 \u001b[0mtraced_simulation\u001b[0m \u001b[0;34m=\u001b[0m \u001b[0mself\u001b[0m \u001b[0;32mif\u001b[0m \u001b[0mself\u001b[0m\u001b[0;34m.\u001b[0m\u001b[0mtrace\u001b[0m \u001b[0;32melse\u001b[0m \u001b[0mNone\u001b[0m\u001b[0;34m,\u001b[0m\u001b[0;34m\u001b[0m\u001b[0m\n\u001b[0m\u001b[1;32m    210\u001b[0m                 )\n\u001b[1;32m    211\u001b[0m             \u001b[0mself\u001b[0m\u001b[0;34m.\u001b[0m\u001b[0mcompact_legislation_by_instant_cache\u001b[0m\u001b[0;34m[\u001b[0m\u001b[0minstant\u001b[0m\u001b[0;34m]\u001b[0m \u001b[0;34m=\u001b[0m \u001b[0mcompact_legislation\u001b[0m\u001b[0;34m\u001b[0m\u001b[0m\n",
      "\u001b[0;32m/home/benjello/openfisca/openfisca-core/openfisca_core/taxbenefitsystems.pyc\u001b[0m in \u001b[0;36mget_compact_legislation\u001b[0;34m(self, instant, traced_simulation)\u001b[0m\n\u001b[1;32m     89\u001b[0m \u001b[0;34m\u001b[0m\u001b[0m\n\u001b[1;32m     90\u001b[0m     \u001b[0;32mdef\u001b[0m \u001b[0mget_compact_legislation\u001b[0m\u001b[0;34m(\u001b[0m\u001b[0mself\u001b[0m\u001b[0;34m,\u001b[0m \u001b[0minstant\u001b[0m\u001b[0;34m,\u001b[0m \u001b[0mtraced_simulation\u001b[0m \u001b[0;34m=\u001b[0m \u001b[0mNone\u001b[0m\u001b[0;34m)\u001b[0m\u001b[0;34m:\u001b[0m\u001b[0;34m\u001b[0m\u001b[0m\n\u001b[0;32m---> 91\u001b[0;31m         \u001b[0mlegislation\u001b[0m \u001b[0;34m=\u001b[0m \u001b[0mself\u001b[0m\u001b[0;34m.\u001b[0m\u001b[0mget_legislation\u001b[0m\u001b[0;34m(\u001b[0m\u001b[0;34m)\u001b[0m\u001b[0;34m\u001b[0m\u001b[0m\n\u001b[0m\u001b[1;32m     92\u001b[0m         \u001b[0;32mif\u001b[0m \u001b[0mtraced_simulation\u001b[0m \u001b[0;32mis\u001b[0m \u001b[0mNone\u001b[0m\u001b[0;34m:\u001b[0m\u001b[0;34m\u001b[0m\u001b[0m\n\u001b[1;32m     93\u001b[0m             \u001b[0mcompact_legislation\u001b[0m \u001b[0;34m=\u001b[0m \u001b[0mself\u001b[0m\u001b[0;34m.\u001b[0m\u001b[0mcompact_legislation_by_instant_cache\u001b[0m\u001b[0;34m.\u001b[0m\u001b[0mget\u001b[0m\u001b[0;34m(\u001b[0m\u001b[0minstant\u001b[0m\u001b[0;34m)\u001b[0m\u001b[0;34m\u001b[0m\u001b[0m\n",
      "\u001b[0;32m/home/benjello/openfisca/openfisca-core/openfisca_core/taxbenefitsystems.pyc\u001b[0m in \u001b[0;36mget_legislation\u001b[0;34m(self, with_source_file_infos)\u001b[0m\n\u001b[1;32m    345\u001b[0m     \u001b[0;32mdef\u001b[0m \u001b[0mget_legislation\u001b[0m\u001b[0;34m(\u001b[0m\u001b[0mself\u001b[0m\u001b[0;34m,\u001b[0m \u001b[0mwith_source_file_infos\u001b[0m \u001b[0;34m=\u001b[0m \u001b[0mFalse\u001b[0m\u001b[0;34m)\u001b[0m\u001b[0;34m:\u001b[0m\u001b[0;34m\u001b[0m\u001b[0m\n\u001b[1;32m    346\u001b[0m         \u001b[0;32mif\u001b[0m \u001b[0mself\u001b[0m\u001b[0;34m.\u001b[0m\u001b[0m_legislation_json\u001b[0m \u001b[0;32mis\u001b[0m \u001b[0mNone\u001b[0m\u001b[0;34m:\u001b[0m\u001b[0;34m\u001b[0m\u001b[0m\n\u001b[0;32m--> 347\u001b[0;31m             \u001b[0mself\u001b[0m\u001b[0;34m.\u001b[0m\u001b[0mcompute_legislation\u001b[0m\u001b[0;34m(\u001b[0m\u001b[0mwith_source_file_infos\u001b[0m \u001b[0;34m=\u001b[0m \u001b[0mwith_source_file_infos\u001b[0m\u001b[0;34m)\u001b[0m\u001b[0;34m\u001b[0m\u001b[0m\n\u001b[0m\u001b[1;32m    348\u001b[0m         \u001b[0;32mreturn\u001b[0m \u001b[0mself\u001b[0m\u001b[0;34m.\u001b[0m\u001b[0m_legislation_json\u001b[0m\u001b[0;34m\u001b[0m\u001b[0m\n\u001b[1;32m    349\u001b[0m \u001b[0;34m\u001b[0m\u001b[0m\n",
      "\u001b[0;32m/home/benjello/openfisca/openfisca-core/openfisca_core/taxbenefitsystems.pyc\u001b[0m in \u001b[0;36mcompute_legislation\u001b[0;34m(self, with_source_file_infos)\u001b[0m\n\u001b[1;32m    338\u001b[0m \u001b[0;34m\u001b[0m\u001b[0m\n\u001b[1;32m    339\u001b[0m     \u001b[0;32mdef\u001b[0m \u001b[0mcompute_legislation\u001b[0m\u001b[0;34m(\u001b[0m\u001b[0mself\u001b[0m\u001b[0;34m,\u001b[0m \u001b[0mwith_source_file_infos\u001b[0m \u001b[0;34m=\u001b[0m \u001b[0mFalse\u001b[0m\u001b[0;34m)\u001b[0m\u001b[0;34m:\u001b[0m\u001b[0;34m\u001b[0m\u001b[0m\n\u001b[0;32m--> 340\u001b[0;31m         \u001b[0mlegislation_json\u001b[0m \u001b[0;34m=\u001b[0m \u001b[0mlegislationsxml\u001b[0m\u001b[0;34m.\u001b[0m\u001b[0mload_legislation\u001b[0m\u001b[0;34m(\u001b[0m\u001b[0mself\u001b[0m\u001b[0;34m.\u001b[0m\u001b[0mlegislation_xml_info_list\u001b[0m\u001b[0;34m)\u001b[0m\u001b[0;34m\u001b[0m\u001b[0m\n\u001b[0m\u001b[1;32m    341\u001b[0m         \u001b[0;32mif\u001b[0m \u001b[0mself\u001b[0m\u001b[0;34m.\u001b[0m\u001b[0mpreprocess_legislation\u001b[0m \u001b[0;32mis\u001b[0m \u001b[0;32mnot\u001b[0m \u001b[0mNone\u001b[0m\u001b[0;34m:\u001b[0m\u001b[0;34m\u001b[0m\u001b[0m\n\u001b[1;32m    342\u001b[0m             \u001b[0mlegislation_json\u001b[0m \u001b[0;34m=\u001b[0m \u001b[0mself\u001b[0m\u001b[0;34m.\u001b[0m\u001b[0mpreprocess_legislation\u001b[0m\u001b[0;34m(\u001b[0m\u001b[0mlegislation_json\u001b[0m\u001b[0;34m)\u001b[0m\u001b[0;34m\u001b[0m\u001b[0m\n",
      "\u001b[0;32m/home/benjello/openfisca/openfisca-core/openfisca_core/legislationsxml.pyc\u001b[0m in \u001b[0;36mload_legislation\u001b[0;34m(legislation_xml_info_list)\u001b[0m\n\u001b[1;32m    191\u001b[0m     \u001b[0mxmlschema\u001b[0m \u001b[0;34m=\u001b[0m \u001b[0mload_xml_schema\u001b[0m\u001b[0;34m(\u001b[0m\u001b[0;34m)\u001b[0m\u001b[0;34m\u001b[0m\u001b[0m\n\u001b[1;32m    192\u001b[0m \u001b[0;34m\u001b[0m\u001b[0m\n\u001b[0;32m--> 193\u001b[0;31m     \u001b[0mxml_trees\u001b[0m \u001b[0;34m=\u001b[0m \u001b[0mparse_and_validate_xml\u001b[0m\u001b[0;34m(\u001b[0m\u001b[0mxmlschema\u001b[0m\u001b[0;34m,\u001b[0m \u001b[0mlegislation_xml_info_list\u001b[0m\u001b[0;34m)\u001b[0m\u001b[0;34m\u001b[0m\u001b[0m\n\u001b[0m\u001b[1;32m    194\u001b[0m \u001b[0;34m\u001b[0m\u001b[0m\n\u001b[1;32m    195\u001b[0m     \u001b[0mname_list\u001b[0m\u001b[0;34m,\u001b[0m \u001b[0mjson_list\u001b[0m \u001b[0;34m=\u001b[0m \u001b[0mtransform_etree_to_json_root\u001b[0m\u001b[0;34m(\u001b[0m\u001b[0mxml_trees\u001b[0m\u001b[0;34m)\u001b[0m\u001b[0;34m\u001b[0m\u001b[0m\n",
      "\u001b[0;32m/home/benjello/openfisca/openfisca-core/openfisca_core/legislationsxml.pyc\u001b[0m in \u001b[0;36mparse_and_validate_xml\u001b[0;34m(xmlschema, legislation_xml_info_list)\u001b[0m\n\u001b[1;32m     32\u001b[0m     \u001b[0mxml_trees\u001b[0m \u001b[0;34m=\u001b[0m \u001b[0;34m[\u001b[0m\u001b[0;34m]\u001b[0m\u001b[0;34m\u001b[0m\u001b[0m\n\u001b[1;32m     33\u001b[0m     \u001b[0;32mfor\u001b[0m \u001b[0mfilename\u001b[0m\u001b[0;34m,\u001b[0m \u001b[0mpath_in_legislation\u001b[0m \u001b[0;32min\u001b[0m \u001b[0mlegislation_xml_info_list\u001b[0m\u001b[0;34m:\u001b[0m\u001b[0;34m\u001b[0m\u001b[0m\n\u001b[0;32m---> 34\u001b[0;31m         \u001b[0;32mwith\u001b[0m \u001b[0mopen\u001b[0m\u001b[0;34m(\u001b[0m\u001b[0mfilename\u001b[0m\u001b[0;34m,\u001b[0m \u001b[0;34m'r'\u001b[0m\u001b[0;34m)\u001b[0m \u001b[0;32mas\u001b[0m \u001b[0mf\u001b[0m\u001b[0;34m:\u001b[0m\u001b[0;34m\u001b[0m\u001b[0m\n\u001b[0m\u001b[1;32m     35\u001b[0m             \u001b[0mtree\u001b[0m \u001b[0;34m=\u001b[0m \u001b[0metree\u001b[0m\u001b[0;34m.\u001b[0m\u001b[0mparse\u001b[0m\u001b[0;34m(\u001b[0m\u001b[0mf\u001b[0m\u001b[0;34m)\u001b[0m\u001b[0;34m\u001b[0m\u001b[0m\n\u001b[1;32m     36\u001b[0m \u001b[0;34m\u001b[0m\u001b[0m\n",
      "\u001b[0;31mIOError\u001b[0m: [Errno 36] File name too long: u'\\n<NODE code=\"root\">\\n  <BAREME code=\"bareme_impot_progressif\" type=\"monetary\">\\n    <TRANCHE code=\"tranche0\">\\n      <SEUIL>\\n        <VALUE deb=\"2013-01-01\" valeur=\"0\" />\\n      </SEUIL>\\n      <TAUX>\\n        <VALUE deb=\"2013-01-01\" valeur=\"0\" />\\n      </TAUX>\\n    </TRANCHE>\\n    <TRANCHE code=\"tranche1\">\\n      <SEUIL>\\n        <VALUE deb=\"2013-01-01\" valeur=\"630000\" />\\n      </SEUIL>\\n      <TAUX>\\n        <VALUE deb=\"2013-01-01\"  valeur=\"0.2\" />\\n      </TAUX>\\n    </TRANCHE>\\n    <TRANCHE code=\"tranche2\">\\n      <SEUIL>\\n        <VALUE deb=\"2013-01-01\"  valeur=\"1500000\" />\\n      </SEUIL>\\n      <TAUX>\\n        <VALUE deb=\"2013-01-01\"  valeur=\"0.3\" />\\n      </TAUX>\\n    </TRANCHE>\\n    <TRANCHE code=\"tranche3\">\\n      <SEUIL>\\n        <VALUE deb=\"2013-01-01\"  valeur=\"4000000\" />\\n      </SEUIL>\\n      <TAUX>\\n        <VALUE deb=\"2013-01-01\"  valeur=\"0.35\" />\\n      </TAUX>\\n    </TRANCHE>\\n    <TRANCHE code=\"tranche4\">\\n      <SEUIL>\\n        <VALUE deb=\"2013-01-01\"  valeur=\"8000000\" />\\n      </SEUIL>\\n      <TAUX>\\n        <VALUE deb=\"2013-01-01\"  valeur=\"0.37\" />\\n      </TAUX>\\n    </TRANCHE>\\n    <TRANCHE code=\"tranche5\">\\n      <SEUIL>\\n        <VALUE deb=\"2013-01-01\"  valeur=\"13500000\" />\\n      </SEUIL>\\n      <TAUX>\\n        <VALUE deb=\"2013-01-01\"  valeur=\"0.4\" />\\n      </TAUX>\\n    </TRANCHE>\\n  </BAREME>\\n  <NODE code=\"reductions_pour_charge_de_famille\">\\n    <CODE code=\"taux_1\" format=\"percent\">\\n      <VALUE deb=\"2013-01-01\"  valeur=\"0\" />\\n    </CODE>\\n    <CODE code=\"taux_2\" format=\"percent\">\\n      <VALUE deb=\"2013-01-01\"  valeur=\"0.1\" />\\n    </CODE>\\n    <CODE code=\"taux_3\" format=\"percent\">\\n      <VALUE deb=\"2013-01-01\"  valeur=\"0.15\" />\\n    </CODE>\\n    <CODE code=\"taux_4\" format=\"percent\">\\n      <VALUE deb=\"2013-01-01\"  valeur=\"0.2\" />\\n    </CODE>\\n    <CODE code=\"taux_5\" format=\"percent\">\\n      <VALUE deb=\"2013-01-01\"  valeur=\"0.25\" />\\n    </CODE>\\n    <CODE code=\"taux_6\" format=\"percent\">\\n      <VALUE deb=\"2013-01-01\"  valeur=\"0.3\" />\\n    </CODE>\\n    <CODE code=\"taux_7\" format=\"percent\">\\n      <VALUE deb=\"2013-01-01\"  valeur=\"0.35\" />\\n    </CODE>\\n    <CODE code=\"taux_8\" format=\"percent\">\\n      <VALUE deb=\"2013-01-01\"  valeur=\"0.4\" />\\n    </CODE>\\n    <CODE code=\"taux_9\" format=\"percent\">\\n      <VALUE deb=\"2013-01-01\"  valeur=\"0.45\" />\\n    </CODE>\\n    <CODE code=\"min_1\" type=\"monetary\">\\n      <VALUE deb=\"2013-01-01\"  valeur=\"0\" />\\n    </CODE>\\n    <CODE code=\"min_2\" type=\"monetary\">\\n      <VALUE deb=\"2013-01-01\"  valeur=\"100000\" />\\n    </CODE>\\n    <CODE code=\"min_3\" type=\"monetary\">\\n      <VALUE deb=\"2013-01-01\"  valeur=\"200000\" />\\n    </CODE>\\n    <CODE code=\"min_4\" type=\"monetary\">\\n      <VALUE deb=\"2013-01-01\"  valeur=\"300000\" />\\n    </CODE>\\n    <CODE code=\"min_5\" type=\"monetary\">\\n      <VALUE deb=\"2013-01-01\"  valeur=\"400000\" />\\n    </CODE>\\n    <CODE code=\"min_6\" type=\"monetary\">\\n      <VALUE deb=\"2013-01-01\"  valeur=\"500000\" />\\n    </CODE>\\n    <CODE code=\"min_7\" type=\"monetary\">\\n      <VALUE deb=\"2013-01-01\"  valeur=\"600000\" />\\n    </CODE>\\n    <CODE code=\"min_8\" type=\"monetary\">\\n      <VALUE deb=\"2013-01-01\"  valeur=\"700000\" />\\n    </CODE>\\n    <CODE code=\"min_9\" type=\"monetary\">\\n      <VALUE deb=\"2013-01-01\"  valeur=\"800000\" />\\n    </CODE>\\n    <CODE code=\"max_1\" type=\"monetary\">\\n      <VALUE deb=\"2013-01-01\"  valeur=\"0\" />\\n    </CODE>\\n    <CODE code=\"max_2\" type=\"monetary\">\\n      <VALUE deb=\"2013-01-01\"  valeur=\"300000\" />\\n    </CODE>\\n    <CODE code=\"max_3\" type=\"monetary\">\\n      <VALUE deb=\"2013-01-01\"  valeur=\"650000\" />\\n    </CODE>\\n    <CODE code=\"max_4\" type=\"monetary\">\\n      <VALUE deb=\"2013-01-01\"  valeur=\"1100000\" />\\n    </CODE>\\n    <CODE code=\"max_5\" type=\"monetary\">\\n      <VALUE deb=\"2013-01-01\"  valeur=\"1650000\" />\\n    </CODE>\\n    <CODE code=\"max_6\" type=\"monetary\">\\n      <VALUE deb=\"2013-01-01\"  valeur=\"2030000\" />\\n    </CODE>\\n    <CODE code=\"max_7\" type=\"monetary\">\\n      <VALUE deb=\"2013-01-01\"  valeur=\"2490000\" />\\n    </CODE>\\n    <CODE code=\"max_8\" type=\"monetary\">\\n      <VALUE deb=\"2013-01-01\"  valeur=\"2755000\" />\\n    </CODE>\\n    <CODE code=\"max_9\" type=\"monetary\">\\n      <VALUE deb=\"2013-01-01\"  valeur=\"3180000\" />\\n    </CODE>\\n  </NODE>\\n</NODE>\\n'"
     ]
    }
   ],
   "source": [
    "simulation.individu('impot_avant_reduction_famille', period='2015')"
   ]
  },
  {
   "cell_type": "code",
   "execution_count": 20,
   "metadata": {
    "collapsed": false
   },
   "outputs": [
    {
     "ename": "AssertionError",
     "evalue": "Circular definition detected on formula impot_avant_reduction_famille<2015>. Formulas and periods involved: impot_avant_reduction_famille<2015>, reduction_impots_pour_charge_famille<2015>.",
     "output_type": "error",
     "traceback": [
      "\u001b[0;31m---------------------------------------------------------------------------\u001b[0m",
      "\u001b[0;31mAssertionError\u001b[0m                            Traceback (most recent call last)",
      "\u001b[0;32m<ipython-input-20-2f80e6affeff>\u001b[0m in \u001b[0;36m<module>\u001b[0;34m()\u001b[0m\n\u001b[0;32m----> 1\u001b[0;31m \u001b[0msimulation\u001b[0m\u001b[0;34m.\u001b[0m\u001b[0mindividu\u001b[0m\u001b[0;34m(\u001b[0m\u001b[0;34m'reduction_impots_pour_charge_famille'\u001b[0m\u001b[0;34m,\u001b[0m \u001b[0mperiod\u001b[0m\u001b[0;34m=\u001b[0m\u001b[0;34m'2015'\u001b[0m\u001b[0;34m)\u001b[0m\u001b[0;34m\u001b[0m\u001b[0m\n\u001b[0m",
      "\u001b[0;32m/home/benjello/openfisca/openfisca-core/openfisca_core/entities.pyc\u001b[0m in \u001b[0;36m__call__\u001b[0;34m(self, variable_name, period, options, **parameters)\u001b[0m\n\u001b[1;32m    182\u001b[0m             \u001b[0;32mreturn\u001b[0m \u001b[0mself\u001b[0m\u001b[0;34m.\u001b[0m\u001b[0msimulation\u001b[0m\u001b[0;34m.\u001b[0m\u001b[0mcalculate_divide\u001b[0m\u001b[0;34m(\u001b[0m\u001b[0mvariable_name\u001b[0m\u001b[0;34m,\u001b[0m \u001b[0mperiod\u001b[0m\u001b[0;34m,\u001b[0m \u001b[0;34m**\u001b[0m\u001b[0mparameters\u001b[0m\u001b[0;34m)\u001b[0m\u001b[0;34m\u001b[0m\u001b[0m\n\u001b[1;32m    183\u001b[0m         \u001b[0;32melse\u001b[0m\u001b[0;34m:\u001b[0m\u001b[0;34m\u001b[0m\u001b[0m\n\u001b[0;32m--> 184\u001b[0;31m             \u001b[0;32mreturn\u001b[0m \u001b[0mself\u001b[0m\u001b[0;34m.\u001b[0m\u001b[0msimulation\u001b[0m\u001b[0;34m.\u001b[0m\u001b[0mcalculate\u001b[0m\u001b[0;34m(\u001b[0m\u001b[0mvariable_name\u001b[0m\u001b[0;34m,\u001b[0m \u001b[0mperiod\u001b[0m\u001b[0;34m,\u001b[0m \u001b[0;34m**\u001b[0m\u001b[0mparameters\u001b[0m\u001b[0;34m)\u001b[0m\u001b[0;34m\u001b[0m\u001b[0m\n\u001b[0m\u001b[1;32m    185\u001b[0m \u001b[0;34m\u001b[0m\u001b[0m\n\u001b[1;32m    186\u001b[0m     \u001b[0;31m# Helpers\u001b[0m\u001b[0;34m\u001b[0m\u001b[0;34m\u001b[0m\u001b[0m\n",
      "\u001b[0;32m/home/benjello/openfisca/openfisca-core/openfisca_core/simulations.pyc\u001b[0m in \u001b[0;36mcalculate\u001b[0;34m(self, column_name, period, **parameters)\u001b[0m\n\u001b[1;32m    109\u001b[0m \u001b[0;34m\u001b[0m\u001b[0m\n\u001b[1;32m    110\u001b[0m     \u001b[0;32mdef\u001b[0m \u001b[0mcalculate\u001b[0m\u001b[0;34m(\u001b[0m\u001b[0mself\u001b[0m\u001b[0;34m,\u001b[0m \u001b[0mcolumn_name\u001b[0m\u001b[0;34m,\u001b[0m \u001b[0mperiod\u001b[0m\u001b[0;34m,\u001b[0m \u001b[0;34m**\u001b[0m\u001b[0mparameters\u001b[0m\u001b[0;34m)\u001b[0m\u001b[0;34m:\u001b[0m\u001b[0;34m\u001b[0m\u001b[0m\n\u001b[0;32m--> 111\u001b[0;31m         \u001b[0;32mreturn\u001b[0m \u001b[0mself\u001b[0m\u001b[0;34m.\u001b[0m\u001b[0mcompute\u001b[0m\u001b[0;34m(\u001b[0m\u001b[0mcolumn_name\u001b[0m\u001b[0;34m,\u001b[0m \u001b[0mperiod\u001b[0m \u001b[0;34m=\u001b[0m \u001b[0mperiod\u001b[0m\u001b[0;34m,\u001b[0m \u001b[0;34m**\u001b[0m\u001b[0mparameters\u001b[0m\u001b[0;34m)\u001b[0m\u001b[0;34m.\u001b[0m\u001b[0marray\u001b[0m\u001b[0;34m\u001b[0m\u001b[0m\n\u001b[0m\u001b[1;32m    112\u001b[0m \u001b[0;34m\u001b[0m\u001b[0m\n\u001b[1;32m    113\u001b[0m     \u001b[0;32mdef\u001b[0m \u001b[0mcalculate_add\u001b[0m\u001b[0;34m(\u001b[0m\u001b[0mself\u001b[0m\u001b[0;34m,\u001b[0m \u001b[0mcolumn_name\u001b[0m\u001b[0;34m,\u001b[0m \u001b[0mperiod\u001b[0m\u001b[0;34m,\u001b[0m \u001b[0;34m**\u001b[0m\u001b[0mparameters\u001b[0m\u001b[0;34m)\u001b[0m\u001b[0;34m:\u001b[0m\u001b[0;34m\u001b[0m\u001b[0m\n",
      "\u001b[0;32m/home/benjello/openfisca/openfisca-core/openfisca_core/simulations.pyc\u001b[0m in \u001b[0;36mcompute\u001b[0;34m(self, column_name, period, **parameters)\u001b[0m\n\u001b[1;32m    164\u001b[0m                 \u001b[0mcaller_input_variables_infos\u001b[0m\u001b[0;34m.\u001b[0m\u001b[0mappend\u001b[0m\u001b[0;34m(\u001b[0m\u001b[0mvariable_infos\u001b[0m\u001b[0;34m)\u001b[0m\u001b[0;34m\u001b[0m\u001b[0m\n\u001b[1;32m    165\u001b[0m         \u001b[0mholder\u001b[0m \u001b[0;34m=\u001b[0m \u001b[0mself\u001b[0m\u001b[0;34m.\u001b[0m\u001b[0mget_variable_entity\u001b[0m\u001b[0;34m(\u001b[0m\u001b[0mcolumn_name\u001b[0m\u001b[0;34m)\u001b[0m\u001b[0;34m.\u001b[0m\u001b[0mget_holder\u001b[0m\u001b[0;34m(\u001b[0m\u001b[0mcolumn_name\u001b[0m\u001b[0;34m)\u001b[0m\u001b[0;34m\u001b[0m\u001b[0m\n\u001b[0;32m--> 166\u001b[0;31m         \u001b[0mresult\u001b[0m \u001b[0;34m=\u001b[0m \u001b[0mholder\u001b[0m\u001b[0;34m.\u001b[0m\u001b[0mcompute\u001b[0m\u001b[0;34m(\u001b[0m\u001b[0mperiod\u001b[0m \u001b[0;34m=\u001b[0m \u001b[0mperiod\u001b[0m\u001b[0;34m,\u001b[0m \u001b[0;34m**\u001b[0m\u001b[0mparameters\u001b[0m\u001b[0;34m)\u001b[0m\u001b[0;34m\u001b[0m\u001b[0m\n\u001b[0m\u001b[1;32m    167\u001b[0m         \u001b[0;32mreturn\u001b[0m \u001b[0mresult\u001b[0m\u001b[0;34m\u001b[0m\u001b[0m\n\u001b[1;32m    168\u001b[0m \u001b[0;34m\u001b[0m\u001b[0m\n",
      "\u001b[0;32m/home/benjello/openfisca/openfisca-core/openfisca_core/holders.pyc\u001b[0m in \u001b[0;36mcompute\u001b[0;34m(self, period, **parameters)\u001b[0m\n\u001b[1;32m    157\u001b[0m \u001b[0;34m\u001b[0m\u001b[0m\n\u001b[1;32m    158\u001b[0m         \u001b[0;31m# Request a computation\u001b[0m\u001b[0;34m\u001b[0m\u001b[0;34m\u001b[0m\u001b[0m\n\u001b[0;32m--> 159\u001b[0;31m         \u001b[0mdated_holder\u001b[0m \u001b[0;34m=\u001b[0m \u001b[0mself\u001b[0m\u001b[0;34m.\u001b[0m\u001b[0mformula\u001b[0m\u001b[0;34m.\u001b[0m\u001b[0mcompute\u001b[0m\u001b[0;34m(\u001b[0m\u001b[0mperiod\u001b[0m \u001b[0;34m=\u001b[0m \u001b[0mperiod\u001b[0m\u001b[0;34m,\u001b[0m \u001b[0;34m**\u001b[0m\u001b[0mparameters\u001b[0m\u001b[0;34m)\u001b[0m\u001b[0;34m\u001b[0m\u001b[0m\n\u001b[0m\u001b[1;32m    160\u001b[0m         \u001b[0mformula_dated_holder\u001b[0m \u001b[0;34m=\u001b[0m \u001b[0mself\u001b[0m\u001b[0;34m.\u001b[0m\u001b[0mput_in_cache\u001b[0m\u001b[0;34m(\u001b[0m\u001b[0mdated_holder\u001b[0m\u001b[0;34m.\u001b[0m\u001b[0marray\u001b[0m\u001b[0;34m,\u001b[0m \u001b[0mperiod\u001b[0m\u001b[0;34m,\u001b[0m \u001b[0mextra_params\u001b[0m\u001b[0;34m)\u001b[0m\u001b[0;34m\u001b[0m\u001b[0m\n\u001b[1;32m    161\u001b[0m         \u001b[0;32mreturn\u001b[0m \u001b[0mformula_dated_holder\u001b[0m\u001b[0;34m\u001b[0m\u001b[0m\n",
      "\u001b[0;32m/home/benjello/openfisca/openfisca-core/openfisca_core/formulas.pyc\u001b[0m in \u001b[0;36mcompute\u001b[0;34m(self, period, **parameters)\u001b[0m\n\u001b[1;32m    423\u001b[0m                 \u001b[0marray\u001b[0m \u001b[0;34m=\u001b[0m \u001b[0mself\u001b[0m\u001b[0;34m.\u001b[0m\u001b[0mbase_function\u001b[0m\u001b[0;34m(\u001b[0m\u001b[0msimulation\u001b[0m\u001b[0;34m,\u001b[0m \u001b[0mperiod\u001b[0m\u001b[0;34m,\u001b[0m \u001b[0;34m*\u001b[0m\u001b[0mextra_params\u001b[0m\u001b[0;34m)\u001b[0m\u001b[0;34m\u001b[0m\u001b[0m\n\u001b[1;32m    424\u001b[0m             \u001b[0;32melse\u001b[0m\u001b[0;34m:\u001b[0m\u001b[0;34m\u001b[0m\u001b[0m\n\u001b[0;32m--> 425\u001b[0;31m                 \u001b[0marray\u001b[0m \u001b[0;34m=\u001b[0m \u001b[0mself\u001b[0m\u001b[0;34m.\u001b[0m\u001b[0mbase_function\u001b[0m\u001b[0;34m(\u001b[0m\u001b[0msimulation\u001b[0m\u001b[0;34m,\u001b[0m \u001b[0mperiod\u001b[0m\u001b[0;34m)\u001b[0m\u001b[0;34m\u001b[0m\u001b[0m\n\u001b[0m\u001b[1;32m    426\u001b[0m         \u001b[0;32mexcept\u001b[0m \u001b[0mCycleError\u001b[0m\u001b[0;34m:\u001b[0m\u001b[0;34m\u001b[0m\u001b[0m\n\u001b[1;32m    427\u001b[0m             \u001b[0mself\u001b[0m\u001b[0;34m.\u001b[0m\u001b[0mclean_cycle_detection_data\u001b[0m\u001b[0;34m(\u001b[0m\u001b[0;34m)\u001b[0m\u001b[0;34m\u001b[0m\u001b[0m\n",
      "\u001b[0;32m/home/benjello/openfisca/openfisca-core/openfisca_core/base_functions.pyc\u001b[0m in \u001b[0;36mrequested_period_default_value\u001b[0;34m(formula, simulation, period, *extra_params)\u001b[0m\n\u001b[1;32m     55\u001b[0m \u001b[0;32mdef\u001b[0m \u001b[0mrequested_period_default_value\u001b[0m\u001b[0;34m(\u001b[0m\u001b[0mformula\u001b[0m\u001b[0;34m,\u001b[0m \u001b[0msimulation\u001b[0m\u001b[0;34m,\u001b[0m \u001b[0mperiod\u001b[0m\u001b[0;34m,\u001b[0m \u001b[0;34m*\u001b[0m\u001b[0mextra_params\u001b[0m\u001b[0;34m)\u001b[0m\u001b[0;34m:\u001b[0m\u001b[0;34m\u001b[0m\u001b[0m\n\u001b[1;32m     56\u001b[0m     \u001b[0;32mif\u001b[0m \u001b[0mformula\u001b[0m\u001b[0;34m.\u001b[0m\u001b[0mfind_function\u001b[0m\u001b[0;34m(\u001b[0m\u001b[0mperiod\u001b[0m\u001b[0;34m)\u001b[0m \u001b[0;32mis\u001b[0m \u001b[0;32mnot\u001b[0m \u001b[0mNone\u001b[0m\u001b[0;34m:\u001b[0m\u001b[0;34m\u001b[0m\u001b[0m\n\u001b[0;32m---> 57\u001b[0;31m         \u001b[0;32mreturn\u001b[0m \u001b[0mformula\u001b[0m\u001b[0;34m.\u001b[0m\u001b[0mexec_function\u001b[0m\u001b[0;34m(\u001b[0m\u001b[0msimulation\u001b[0m\u001b[0;34m,\u001b[0m \u001b[0mperiod\u001b[0m\u001b[0;34m,\u001b[0m \u001b[0;34m*\u001b[0m\u001b[0mextra_params\u001b[0m\u001b[0;34m)\u001b[0m\u001b[0;34m\u001b[0m\u001b[0m\n\u001b[0m\u001b[1;32m     58\u001b[0m     \u001b[0mholder\u001b[0m \u001b[0;34m=\u001b[0m \u001b[0mformula\u001b[0m\u001b[0;34m.\u001b[0m\u001b[0mholder\u001b[0m\u001b[0;34m\u001b[0m\u001b[0m\n\u001b[1;32m     59\u001b[0m     \u001b[0marray\u001b[0m \u001b[0;34m=\u001b[0m \u001b[0mholder\u001b[0m\u001b[0;34m.\u001b[0m\u001b[0mdefault_array\u001b[0m\u001b[0;34m(\u001b[0m\u001b[0;34m)\u001b[0m\u001b[0;34m\u001b[0m\u001b[0m\n",
      "\u001b[0;32m/home/benjello/openfisca/openfisca-core/openfisca_core/formulas.pyc\u001b[0m in \u001b[0;36mexec_function\u001b[0;34m(self, simulation, period, *extra_params)\u001b[0m\n\u001b[1;32m    529\u001b[0m                 \u001b[0;32mreturn\u001b[0m \u001b[0mfunction\u001b[0m\u001b[0;34m(\u001b[0m\u001b[0mentity\u001b[0m\u001b[0;34m,\u001b[0m \u001b[0mperiod\u001b[0m\u001b[0;34m)\u001b[0m\u001b[0;34m\u001b[0m\u001b[0m\n\u001b[1;32m    530\u001b[0m             \u001b[0;32melse\u001b[0m\u001b[0;34m:\u001b[0m\u001b[0;34m\u001b[0m\u001b[0m\n\u001b[0;32m--> 531\u001b[0;31m                 \u001b[0;32mreturn\u001b[0m \u001b[0mfunction\u001b[0m\u001b[0;34m(\u001b[0m\u001b[0mentity\u001b[0m\u001b[0;34m,\u001b[0m \u001b[0mperiod\u001b[0m\u001b[0;34m,\u001b[0m \u001b[0mlegislation\u001b[0m\u001b[0;34m,\u001b[0m \u001b[0;34m*\u001b[0m\u001b[0mextra_params\u001b[0m\u001b[0;34m)\u001b[0m\u001b[0;34m\u001b[0m\u001b[0m\n\u001b[0m\u001b[1;32m    532\u001b[0m \u001b[0;34m\u001b[0m\u001b[0m\n\u001b[1;32m    533\u001b[0m     \u001b[0;32mdef\u001b[0m \u001b[0mgraph_parameters\u001b[0m\u001b[0;34m(\u001b[0m\u001b[0mself\u001b[0m\u001b[0;34m,\u001b[0m \u001b[0medges\u001b[0m\u001b[0;34m,\u001b[0m \u001b[0mget_input_variables_and_parameters\u001b[0m\u001b[0;34m,\u001b[0m \u001b[0mnodes\u001b[0m\u001b[0;34m,\u001b[0m \u001b[0mvisited\u001b[0m\u001b[0;34m)\u001b[0m\u001b[0;34m:\u001b[0m\u001b[0;34m\u001b[0m\u001b[0m\n",
      "\u001b[0;32m<ipython-input-14-351588cf0b46>\u001b[0m in \u001b[0;36mformula\u001b[0;34m(individu, period, legislation)\u001b[0m\n\u001b[1;32m     39\u001b[0m \u001b[0;34m\u001b[0m\u001b[0m\n\u001b[1;32m     40\u001b[0m     \u001b[0;32mdef\u001b[0m \u001b[0mformula\u001b[0m\u001b[0;34m(\u001b[0m\u001b[0mindividu\u001b[0m\u001b[0;34m,\u001b[0m \u001b[0mperiod\u001b[0m\u001b[0;34m,\u001b[0m \u001b[0mlegislation\u001b[0m\u001b[0;34m)\u001b[0m\u001b[0;34m:\u001b[0m\u001b[0;34m\u001b[0m\u001b[0m\n\u001b[0;32m---> 41\u001b[0;31m         \u001b[0mimpot_avant_reduction_famille\u001b[0m \u001b[0;34m=\u001b[0m \u001b[0mindividu\u001b[0m\u001b[0;34m(\u001b[0m\u001b[0;34m'impot_avant_reduction_famille'\u001b[0m\u001b[0;34m,\u001b[0m \u001b[0mperiod\u001b[0m\u001b[0;34m)\u001b[0m\u001b[0;34m\u001b[0m\u001b[0m\n\u001b[0m\u001b[1;32m     42\u001b[0m \u001b[0;34m\u001b[0m\u001b[0m\n\u001b[1;32m     43\u001b[0m         \u001b[0mnombre_de_parts\u001b[0m \u001b[0;34m=\u001b[0m \u001b[0mindividu\u001b[0m\u001b[0;34m(\u001b[0m\u001b[0;34m'nombre_de_parts'\u001b[0m\u001b[0;34m,\u001b[0m \u001b[0mperiod\u001b[0m\u001b[0;34m)\u001b[0m\u001b[0;34m\u001b[0m\u001b[0m\n",
      "\u001b[0;32m/home/benjello/openfisca/openfisca-core/openfisca_core/entities.pyc\u001b[0m in \u001b[0;36m__call__\u001b[0;34m(self, variable_name, period, options, **parameters)\u001b[0m\n\u001b[1;32m    182\u001b[0m             \u001b[0;32mreturn\u001b[0m \u001b[0mself\u001b[0m\u001b[0;34m.\u001b[0m\u001b[0msimulation\u001b[0m\u001b[0;34m.\u001b[0m\u001b[0mcalculate_divide\u001b[0m\u001b[0;34m(\u001b[0m\u001b[0mvariable_name\u001b[0m\u001b[0;34m,\u001b[0m \u001b[0mperiod\u001b[0m\u001b[0;34m,\u001b[0m \u001b[0;34m**\u001b[0m\u001b[0mparameters\u001b[0m\u001b[0;34m)\u001b[0m\u001b[0;34m\u001b[0m\u001b[0m\n\u001b[1;32m    183\u001b[0m         \u001b[0;32melse\u001b[0m\u001b[0;34m:\u001b[0m\u001b[0;34m\u001b[0m\u001b[0m\n\u001b[0;32m--> 184\u001b[0;31m             \u001b[0;32mreturn\u001b[0m \u001b[0mself\u001b[0m\u001b[0;34m.\u001b[0m\u001b[0msimulation\u001b[0m\u001b[0;34m.\u001b[0m\u001b[0mcalculate\u001b[0m\u001b[0;34m(\u001b[0m\u001b[0mvariable_name\u001b[0m\u001b[0;34m,\u001b[0m \u001b[0mperiod\u001b[0m\u001b[0;34m,\u001b[0m \u001b[0;34m**\u001b[0m\u001b[0mparameters\u001b[0m\u001b[0;34m)\u001b[0m\u001b[0;34m\u001b[0m\u001b[0m\n\u001b[0m\u001b[1;32m    185\u001b[0m \u001b[0;34m\u001b[0m\u001b[0m\n\u001b[1;32m    186\u001b[0m     \u001b[0;31m# Helpers\u001b[0m\u001b[0;34m\u001b[0m\u001b[0;34m\u001b[0m\u001b[0m\n",
      "\u001b[0;32m/home/benjello/openfisca/openfisca-core/openfisca_core/simulations.pyc\u001b[0m in \u001b[0;36mcalculate\u001b[0;34m(self, column_name, period, **parameters)\u001b[0m\n\u001b[1;32m    109\u001b[0m \u001b[0;34m\u001b[0m\u001b[0m\n\u001b[1;32m    110\u001b[0m     \u001b[0;32mdef\u001b[0m \u001b[0mcalculate\u001b[0m\u001b[0;34m(\u001b[0m\u001b[0mself\u001b[0m\u001b[0;34m,\u001b[0m \u001b[0mcolumn_name\u001b[0m\u001b[0;34m,\u001b[0m \u001b[0mperiod\u001b[0m\u001b[0;34m,\u001b[0m \u001b[0;34m**\u001b[0m\u001b[0mparameters\u001b[0m\u001b[0;34m)\u001b[0m\u001b[0;34m:\u001b[0m\u001b[0;34m\u001b[0m\u001b[0m\n\u001b[0;32m--> 111\u001b[0;31m         \u001b[0;32mreturn\u001b[0m \u001b[0mself\u001b[0m\u001b[0;34m.\u001b[0m\u001b[0mcompute\u001b[0m\u001b[0;34m(\u001b[0m\u001b[0mcolumn_name\u001b[0m\u001b[0;34m,\u001b[0m \u001b[0mperiod\u001b[0m \u001b[0;34m=\u001b[0m \u001b[0mperiod\u001b[0m\u001b[0;34m,\u001b[0m \u001b[0;34m**\u001b[0m\u001b[0mparameters\u001b[0m\u001b[0;34m)\u001b[0m\u001b[0;34m.\u001b[0m\u001b[0marray\u001b[0m\u001b[0;34m\u001b[0m\u001b[0m\n\u001b[0m\u001b[1;32m    112\u001b[0m \u001b[0;34m\u001b[0m\u001b[0m\n\u001b[1;32m    113\u001b[0m     \u001b[0;32mdef\u001b[0m \u001b[0mcalculate_add\u001b[0m\u001b[0;34m(\u001b[0m\u001b[0mself\u001b[0m\u001b[0;34m,\u001b[0m \u001b[0mcolumn_name\u001b[0m\u001b[0;34m,\u001b[0m \u001b[0mperiod\u001b[0m\u001b[0;34m,\u001b[0m \u001b[0;34m**\u001b[0m\u001b[0mparameters\u001b[0m\u001b[0;34m)\u001b[0m\u001b[0;34m:\u001b[0m\u001b[0;34m\u001b[0m\u001b[0m\n",
      "\u001b[0;32m/home/benjello/openfisca/openfisca-core/openfisca_core/simulations.pyc\u001b[0m in \u001b[0;36mcompute\u001b[0;34m(self, column_name, period, **parameters)\u001b[0m\n\u001b[1;32m    164\u001b[0m                 \u001b[0mcaller_input_variables_infos\u001b[0m\u001b[0;34m.\u001b[0m\u001b[0mappend\u001b[0m\u001b[0;34m(\u001b[0m\u001b[0mvariable_infos\u001b[0m\u001b[0;34m)\u001b[0m\u001b[0;34m\u001b[0m\u001b[0m\n\u001b[1;32m    165\u001b[0m         \u001b[0mholder\u001b[0m \u001b[0;34m=\u001b[0m \u001b[0mself\u001b[0m\u001b[0;34m.\u001b[0m\u001b[0mget_variable_entity\u001b[0m\u001b[0;34m(\u001b[0m\u001b[0mcolumn_name\u001b[0m\u001b[0;34m)\u001b[0m\u001b[0;34m.\u001b[0m\u001b[0mget_holder\u001b[0m\u001b[0;34m(\u001b[0m\u001b[0mcolumn_name\u001b[0m\u001b[0;34m)\u001b[0m\u001b[0;34m\u001b[0m\u001b[0m\n\u001b[0;32m--> 166\u001b[0;31m         \u001b[0mresult\u001b[0m \u001b[0;34m=\u001b[0m \u001b[0mholder\u001b[0m\u001b[0;34m.\u001b[0m\u001b[0mcompute\u001b[0m\u001b[0;34m(\u001b[0m\u001b[0mperiod\u001b[0m \u001b[0;34m=\u001b[0m \u001b[0mperiod\u001b[0m\u001b[0;34m,\u001b[0m \u001b[0;34m**\u001b[0m\u001b[0mparameters\u001b[0m\u001b[0;34m)\u001b[0m\u001b[0;34m\u001b[0m\u001b[0m\n\u001b[0m\u001b[1;32m    167\u001b[0m         \u001b[0;32mreturn\u001b[0m \u001b[0mresult\u001b[0m\u001b[0;34m\u001b[0m\u001b[0m\n\u001b[1;32m    168\u001b[0m \u001b[0;34m\u001b[0m\u001b[0m\n",
      "\u001b[0;32m/home/benjello/openfisca/openfisca-core/openfisca_core/holders.pyc\u001b[0m in \u001b[0;36mcompute\u001b[0;34m(self, period, **parameters)\u001b[0m\n\u001b[1;32m    157\u001b[0m \u001b[0;34m\u001b[0m\u001b[0m\n\u001b[1;32m    158\u001b[0m         \u001b[0;31m# Request a computation\u001b[0m\u001b[0;34m\u001b[0m\u001b[0;34m\u001b[0m\u001b[0m\n\u001b[0;32m--> 159\u001b[0;31m         \u001b[0mdated_holder\u001b[0m \u001b[0;34m=\u001b[0m \u001b[0mself\u001b[0m\u001b[0;34m.\u001b[0m\u001b[0mformula\u001b[0m\u001b[0;34m.\u001b[0m\u001b[0mcompute\u001b[0m\u001b[0;34m(\u001b[0m\u001b[0mperiod\u001b[0m \u001b[0;34m=\u001b[0m \u001b[0mperiod\u001b[0m\u001b[0;34m,\u001b[0m \u001b[0;34m**\u001b[0m\u001b[0mparameters\u001b[0m\u001b[0;34m)\u001b[0m\u001b[0;34m\u001b[0m\u001b[0m\n\u001b[0m\u001b[1;32m    160\u001b[0m         \u001b[0mformula_dated_holder\u001b[0m \u001b[0;34m=\u001b[0m \u001b[0mself\u001b[0m\u001b[0;34m.\u001b[0m\u001b[0mput_in_cache\u001b[0m\u001b[0;34m(\u001b[0m\u001b[0mdated_holder\u001b[0m\u001b[0;34m.\u001b[0m\u001b[0marray\u001b[0m\u001b[0;34m,\u001b[0m \u001b[0mperiod\u001b[0m\u001b[0;34m,\u001b[0m \u001b[0mextra_params\u001b[0m\u001b[0;34m)\u001b[0m\u001b[0;34m\u001b[0m\u001b[0m\n\u001b[1;32m    161\u001b[0m         \u001b[0;32mreturn\u001b[0m \u001b[0mformula_dated_holder\u001b[0m\u001b[0;34m\u001b[0m\u001b[0m\n",
      "\u001b[0;32m/home/benjello/openfisca/openfisca-core/openfisca_core/formulas.pyc\u001b[0m in \u001b[0;36mcompute\u001b[0;34m(self, period, **parameters)\u001b[0m\n\u001b[1;32m    413\u001b[0m \u001b[0;34m\u001b[0m\u001b[0m\n\u001b[1;32m    414\u001b[0m         \u001b[0;32mtry\u001b[0m\u001b[0;34m:\u001b[0m\u001b[0;34m\u001b[0m\u001b[0m\n\u001b[0;32m--> 415\u001b[0;31m             \u001b[0mself\u001b[0m\u001b[0;34m.\u001b[0m\u001b[0mcheck_for_cycle\u001b[0m\u001b[0;34m(\u001b[0m\u001b[0mperiod\u001b[0m\u001b[0;34m)\u001b[0m\u001b[0;34m\u001b[0m\u001b[0m\n\u001b[0m\u001b[1;32m    416\u001b[0m             \u001b[0;32mif\u001b[0m \u001b[0mdebug\u001b[0m \u001b[0;32mor\u001b[0m \u001b[0mtrace\u001b[0m\u001b[0;34m:\u001b[0m\u001b[0;34m\u001b[0m\u001b[0m\n\u001b[1;32m    417\u001b[0m                 simulation.stack_trace.append(dict(\n",
      "\u001b[0;32m/home/benjello/openfisca/openfisca-core/openfisca_core/formulas.pyc\u001b[0m in \u001b[0;36mcheck_for_cycle\u001b[0;34m(self, period)\u001b[0m\n\u001b[1;32m    362\u001b[0m             \u001b[0;31m# It would be a pure circular definition.\u001b[0m\u001b[0;34m\u001b[0m\u001b[0;34m\u001b[0m\u001b[0m\n\u001b[1;32m    363\u001b[0m             \u001b[0mrequested_periods\u001b[0m \u001b[0;34m=\u001b[0m \u001b[0mrequested_periods_by_variable_name\u001b[0m\u001b[0;34m[\u001b[0m\u001b[0mvariable_name\u001b[0m\u001b[0;34m]\u001b[0m\u001b[0;34m\u001b[0m\u001b[0m\n\u001b[0;32m--> 364\u001b[0;31m             \u001b[0;32massert\u001b[0m \u001b[0mperiod\u001b[0m \u001b[0;32mnot\u001b[0m \u001b[0;32min\u001b[0m \u001b[0mrequested_periods\u001b[0m \u001b[0;32mand\u001b[0m \u001b[0;34m(\u001b[0m\u001b[0mcolumn\u001b[0m\u001b[0;34m.\u001b[0m\u001b[0mdefinition_period\u001b[0m \u001b[0;34m!=\u001b[0m \u001b[0mETERNITY\u001b[0m\u001b[0;34m)\u001b[0m\u001b[0;34m,\u001b[0m \u001b[0mget_error_message\u001b[0m\u001b[0;34m(\u001b[0m\u001b[0;34m)\u001b[0m\u001b[0;34m\u001b[0m\u001b[0m\n\u001b[0m\u001b[1;32m    365\u001b[0m             \u001b[0;32mif\u001b[0m \u001b[0msimulation\u001b[0m\u001b[0;34m.\u001b[0m\u001b[0mmax_nb_cycles\u001b[0m \u001b[0;32mis\u001b[0m \u001b[0mNone\u001b[0m \u001b[0;32mor\u001b[0m \u001b[0mlen\u001b[0m\u001b[0;34m(\u001b[0m\u001b[0mrequested_periods\u001b[0m\u001b[0;34m)\u001b[0m \u001b[0;34m>\u001b[0m \u001b[0msimulation\u001b[0m\u001b[0;34m.\u001b[0m\u001b[0mmax_nb_cycles\u001b[0m\u001b[0;34m:\u001b[0m\u001b[0;34m\u001b[0m\u001b[0m\n\u001b[1;32m    366\u001b[0m                 \u001b[0mmessage\u001b[0m \u001b[0;34m=\u001b[0m \u001b[0mget_error_message\u001b[0m\u001b[0;34m(\u001b[0m\u001b[0;34m)\u001b[0m\u001b[0;34m\u001b[0m\u001b[0m\n",
      "\u001b[0;31mAssertionError\u001b[0m: Circular definition detected on formula impot_avant_reduction_famille<2015>. Formulas and periods involved: impot_avant_reduction_famille<2015>, reduction_impots_pour_charge_famille<2015>."
     ]
    }
   ],
   "source": [
    "simulation.individu('reduction_impots_pour_charge_famille', period='2015')"
   ]
  },
  {
   "cell_type": "code",
   "execution_count": 21,
   "metadata": {
    "collapsed": false
   },
   "outputs": [
    {
     "ename": "AssertionError",
     "evalue": "Circular definition detected on formula impot_avant_reduction_famille<2015>. Formulas and periods involved: impot_avant_reduction_famille<2015>, impot_revenus<2015>, reduction_impots_pour_charge_famille<2015>.",
     "output_type": "error",
     "traceback": [
      "\u001b[0;31m---------------------------------------------------------------------------\u001b[0m",
      "\u001b[0;31mAssertionError\u001b[0m                            Traceback (most recent call last)",
      "\u001b[0;32m<ipython-input-21-d57837d05614>\u001b[0m in \u001b[0;36m<module>\u001b[0;34m()\u001b[0m\n\u001b[0;32m----> 1\u001b[0;31m \u001b[0msimulation\u001b[0m\u001b[0;34m.\u001b[0m\u001b[0mindividu\u001b[0m\u001b[0;34m(\u001b[0m\u001b[0;34m'impot_revenus'\u001b[0m\u001b[0;34m,\u001b[0m \u001b[0mperiod\u001b[0m\u001b[0;34m=\u001b[0m\u001b[0;34m'2015'\u001b[0m\u001b[0;34m)\u001b[0m\u001b[0;34m\u001b[0m\u001b[0m\n\u001b[0m",
      "\u001b[0;32m/home/benjello/openfisca/openfisca-core/openfisca_core/entities.pyc\u001b[0m in \u001b[0;36m__call__\u001b[0;34m(self, variable_name, period, options, **parameters)\u001b[0m\n\u001b[1;32m    182\u001b[0m             \u001b[0;32mreturn\u001b[0m \u001b[0mself\u001b[0m\u001b[0;34m.\u001b[0m\u001b[0msimulation\u001b[0m\u001b[0;34m.\u001b[0m\u001b[0mcalculate_divide\u001b[0m\u001b[0;34m(\u001b[0m\u001b[0mvariable_name\u001b[0m\u001b[0;34m,\u001b[0m \u001b[0mperiod\u001b[0m\u001b[0;34m,\u001b[0m \u001b[0;34m**\u001b[0m\u001b[0mparameters\u001b[0m\u001b[0;34m)\u001b[0m\u001b[0;34m\u001b[0m\u001b[0m\n\u001b[1;32m    183\u001b[0m         \u001b[0;32melse\u001b[0m\u001b[0;34m:\u001b[0m\u001b[0;34m\u001b[0m\u001b[0m\n\u001b[0;32m--> 184\u001b[0;31m             \u001b[0;32mreturn\u001b[0m \u001b[0mself\u001b[0m\u001b[0;34m.\u001b[0m\u001b[0msimulation\u001b[0m\u001b[0;34m.\u001b[0m\u001b[0mcalculate\u001b[0m\u001b[0;34m(\u001b[0m\u001b[0mvariable_name\u001b[0m\u001b[0;34m,\u001b[0m \u001b[0mperiod\u001b[0m\u001b[0;34m,\u001b[0m \u001b[0;34m**\u001b[0m\u001b[0mparameters\u001b[0m\u001b[0;34m)\u001b[0m\u001b[0;34m\u001b[0m\u001b[0m\n\u001b[0m\u001b[1;32m    185\u001b[0m \u001b[0;34m\u001b[0m\u001b[0m\n\u001b[1;32m    186\u001b[0m     \u001b[0;31m# Helpers\u001b[0m\u001b[0;34m\u001b[0m\u001b[0;34m\u001b[0m\u001b[0m\n",
      "\u001b[0;32m/home/benjello/openfisca/openfisca-core/openfisca_core/simulations.pyc\u001b[0m in \u001b[0;36mcalculate\u001b[0;34m(self, column_name, period, **parameters)\u001b[0m\n\u001b[1;32m    109\u001b[0m \u001b[0;34m\u001b[0m\u001b[0m\n\u001b[1;32m    110\u001b[0m     \u001b[0;32mdef\u001b[0m \u001b[0mcalculate\u001b[0m\u001b[0;34m(\u001b[0m\u001b[0mself\u001b[0m\u001b[0;34m,\u001b[0m \u001b[0mcolumn_name\u001b[0m\u001b[0;34m,\u001b[0m \u001b[0mperiod\u001b[0m\u001b[0;34m,\u001b[0m \u001b[0;34m**\u001b[0m\u001b[0mparameters\u001b[0m\u001b[0;34m)\u001b[0m\u001b[0;34m:\u001b[0m\u001b[0;34m\u001b[0m\u001b[0m\n\u001b[0;32m--> 111\u001b[0;31m         \u001b[0;32mreturn\u001b[0m \u001b[0mself\u001b[0m\u001b[0;34m.\u001b[0m\u001b[0mcompute\u001b[0m\u001b[0;34m(\u001b[0m\u001b[0mcolumn_name\u001b[0m\u001b[0;34m,\u001b[0m \u001b[0mperiod\u001b[0m \u001b[0;34m=\u001b[0m \u001b[0mperiod\u001b[0m\u001b[0;34m,\u001b[0m \u001b[0;34m**\u001b[0m\u001b[0mparameters\u001b[0m\u001b[0;34m)\u001b[0m\u001b[0;34m.\u001b[0m\u001b[0marray\u001b[0m\u001b[0;34m\u001b[0m\u001b[0m\n\u001b[0m\u001b[1;32m    112\u001b[0m \u001b[0;34m\u001b[0m\u001b[0m\n\u001b[1;32m    113\u001b[0m     \u001b[0;32mdef\u001b[0m \u001b[0mcalculate_add\u001b[0m\u001b[0;34m(\u001b[0m\u001b[0mself\u001b[0m\u001b[0;34m,\u001b[0m \u001b[0mcolumn_name\u001b[0m\u001b[0;34m,\u001b[0m \u001b[0mperiod\u001b[0m\u001b[0;34m,\u001b[0m \u001b[0;34m**\u001b[0m\u001b[0mparameters\u001b[0m\u001b[0;34m)\u001b[0m\u001b[0;34m:\u001b[0m\u001b[0;34m\u001b[0m\u001b[0m\n",
      "\u001b[0;32m/home/benjello/openfisca/openfisca-core/openfisca_core/simulations.pyc\u001b[0m in \u001b[0;36mcompute\u001b[0;34m(self, column_name, period, **parameters)\u001b[0m\n\u001b[1;32m    164\u001b[0m                 \u001b[0mcaller_input_variables_infos\u001b[0m\u001b[0;34m.\u001b[0m\u001b[0mappend\u001b[0m\u001b[0;34m(\u001b[0m\u001b[0mvariable_infos\u001b[0m\u001b[0;34m)\u001b[0m\u001b[0;34m\u001b[0m\u001b[0m\n\u001b[1;32m    165\u001b[0m         \u001b[0mholder\u001b[0m \u001b[0;34m=\u001b[0m \u001b[0mself\u001b[0m\u001b[0;34m.\u001b[0m\u001b[0mget_variable_entity\u001b[0m\u001b[0;34m(\u001b[0m\u001b[0mcolumn_name\u001b[0m\u001b[0;34m)\u001b[0m\u001b[0;34m.\u001b[0m\u001b[0mget_holder\u001b[0m\u001b[0;34m(\u001b[0m\u001b[0mcolumn_name\u001b[0m\u001b[0;34m)\u001b[0m\u001b[0;34m\u001b[0m\u001b[0m\n\u001b[0;32m--> 166\u001b[0;31m         \u001b[0mresult\u001b[0m \u001b[0;34m=\u001b[0m \u001b[0mholder\u001b[0m\u001b[0;34m.\u001b[0m\u001b[0mcompute\u001b[0m\u001b[0;34m(\u001b[0m\u001b[0mperiod\u001b[0m \u001b[0;34m=\u001b[0m \u001b[0mperiod\u001b[0m\u001b[0;34m,\u001b[0m \u001b[0;34m**\u001b[0m\u001b[0mparameters\u001b[0m\u001b[0;34m)\u001b[0m\u001b[0;34m\u001b[0m\u001b[0m\n\u001b[0m\u001b[1;32m    167\u001b[0m         \u001b[0;32mreturn\u001b[0m \u001b[0mresult\u001b[0m\u001b[0;34m\u001b[0m\u001b[0m\n\u001b[1;32m    168\u001b[0m \u001b[0;34m\u001b[0m\u001b[0m\n",
      "\u001b[0;32m/home/benjello/openfisca/openfisca-core/openfisca_core/holders.pyc\u001b[0m in \u001b[0;36mcompute\u001b[0;34m(self, period, **parameters)\u001b[0m\n\u001b[1;32m    157\u001b[0m \u001b[0;34m\u001b[0m\u001b[0m\n\u001b[1;32m    158\u001b[0m         \u001b[0;31m# Request a computation\u001b[0m\u001b[0;34m\u001b[0m\u001b[0;34m\u001b[0m\u001b[0m\n\u001b[0;32m--> 159\u001b[0;31m         \u001b[0mdated_holder\u001b[0m \u001b[0;34m=\u001b[0m \u001b[0mself\u001b[0m\u001b[0;34m.\u001b[0m\u001b[0mformula\u001b[0m\u001b[0;34m.\u001b[0m\u001b[0mcompute\u001b[0m\u001b[0;34m(\u001b[0m\u001b[0mperiod\u001b[0m \u001b[0;34m=\u001b[0m \u001b[0mperiod\u001b[0m\u001b[0;34m,\u001b[0m \u001b[0;34m**\u001b[0m\u001b[0mparameters\u001b[0m\u001b[0;34m)\u001b[0m\u001b[0;34m\u001b[0m\u001b[0m\n\u001b[0m\u001b[1;32m    160\u001b[0m         \u001b[0mformula_dated_holder\u001b[0m \u001b[0;34m=\u001b[0m \u001b[0mself\u001b[0m\u001b[0;34m.\u001b[0m\u001b[0mput_in_cache\u001b[0m\u001b[0;34m(\u001b[0m\u001b[0mdated_holder\u001b[0m\u001b[0;34m.\u001b[0m\u001b[0marray\u001b[0m\u001b[0;34m,\u001b[0m \u001b[0mperiod\u001b[0m\u001b[0;34m,\u001b[0m \u001b[0mextra_params\u001b[0m\u001b[0;34m)\u001b[0m\u001b[0;34m\u001b[0m\u001b[0m\n\u001b[1;32m    161\u001b[0m         \u001b[0;32mreturn\u001b[0m \u001b[0mformula_dated_holder\u001b[0m\u001b[0;34m\u001b[0m\u001b[0m\n",
      "\u001b[0;32m/home/benjello/openfisca/openfisca-core/openfisca_core/formulas.pyc\u001b[0m in \u001b[0;36mcompute\u001b[0;34m(self, period, **parameters)\u001b[0m\n\u001b[1;32m    423\u001b[0m                 \u001b[0marray\u001b[0m \u001b[0;34m=\u001b[0m \u001b[0mself\u001b[0m\u001b[0;34m.\u001b[0m\u001b[0mbase_function\u001b[0m\u001b[0;34m(\u001b[0m\u001b[0msimulation\u001b[0m\u001b[0;34m,\u001b[0m \u001b[0mperiod\u001b[0m\u001b[0;34m,\u001b[0m \u001b[0;34m*\u001b[0m\u001b[0mextra_params\u001b[0m\u001b[0;34m)\u001b[0m\u001b[0;34m\u001b[0m\u001b[0m\n\u001b[1;32m    424\u001b[0m             \u001b[0;32melse\u001b[0m\u001b[0;34m:\u001b[0m\u001b[0;34m\u001b[0m\u001b[0m\n\u001b[0;32m--> 425\u001b[0;31m                 \u001b[0marray\u001b[0m \u001b[0;34m=\u001b[0m \u001b[0mself\u001b[0m\u001b[0;34m.\u001b[0m\u001b[0mbase_function\u001b[0m\u001b[0;34m(\u001b[0m\u001b[0msimulation\u001b[0m\u001b[0;34m,\u001b[0m \u001b[0mperiod\u001b[0m\u001b[0;34m)\u001b[0m\u001b[0;34m\u001b[0m\u001b[0m\n\u001b[0m\u001b[1;32m    426\u001b[0m         \u001b[0;32mexcept\u001b[0m \u001b[0mCycleError\u001b[0m\u001b[0;34m:\u001b[0m\u001b[0;34m\u001b[0m\u001b[0m\n\u001b[1;32m    427\u001b[0m             \u001b[0mself\u001b[0m\u001b[0;34m.\u001b[0m\u001b[0mclean_cycle_detection_data\u001b[0m\u001b[0;34m(\u001b[0m\u001b[0;34m)\u001b[0m\u001b[0;34m\u001b[0m\u001b[0m\n",
      "\u001b[0;32m/home/benjello/openfisca/openfisca-core/openfisca_core/base_functions.pyc\u001b[0m in \u001b[0;36mrequested_period_default_value\u001b[0;34m(formula, simulation, period, *extra_params)\u001b[0m\n\u001b[1;32m     55\u001b[0m \u001b[0;32mdef\u001b[0m \u001b[0mrequested_period_default_value\u001b[0m\u001b[0;34m(\u001b[0m\u001b[0mformula\u001b[0m\u001b[0;34m,\u001b[0m \u001b[0msimulation\u001b[0m\u001b[0;34m,\u001b[0m \u001b[0mperiod\u001b[0m\u001b[0;34m,\u001b[0m \u001b[0;34m*\u001b[0m\u001b[0mextra_params\u001b[0m\u001b[0;34m)\u001b[0m\u001b[0;34m:\u001b[0m\u001b[0;34m\u001b[0m\u001b[0m\n\u001b[1;32m     56\u001b[0m     \u001b[0;32mif\u001b[0m \u001b[0mformula\u001b[0m\u001b[0;34m.\u001b[0m\u001b[0mfind_function\u001b[0m\u001b[0;34m(\u001b[0m\u001b[0mperiod\u001b[0m\u001b[0;34m)\u001b[0m \u001b[0;32mis\u001b[0m \u001b[0;32mnot\u001b[0m \u001b[0mNone\u001b[0m\u001b[0;34m:\u001b[0m\u001b[0;34m\u001b[0m\u001b[0m\n\u001b[0;32m---> 57\u001b[0;31m         \u001b[0;32mreturn\u001b[0m \u001b[0mformula\u001b[0m\u001b[0;34m.\u001b[0m\u001b[0mexec_function\u001b[0m\u001b[0;34m(\u001b[0m\u001b[0msimulation\u001b[0m\u001b[0;34m,\u001b[0m \u001b[0mperiod\u001b[0m\u001b[0;34m,\u001b[0m \u001b[0;34m*\u001b[0m\u001b[0mextra_params\u001b[0m\u001b[0;34m)\u001b[0m\u001b[0;34m\u001b[0m\u001b[0m\n\u001b[0m\u001b[1;32m     58\u001b[0m     \u001b[0mholder\u001b[0m \u001b[0;34m=\u001b[0m \u001b[0mformula\u001b[0m\u001b[0;34m.\u001b[0m\u001b[0mholder\u001b[0m\u001b[0;34m\u001b[0m\u001b[0m\n\u001b[1;32m     59\u001b[0m     \u001b[0marray\u001b[0m \u001b[0;34m=\u001b[0m \u001b[0mholder\u001b[0m\u001b[0;34m.\u001b[0m\u001b[0mdefault_array\u001b[0m\u001b[0;34m(\u001b[0m\u001b[0;34m)\u001b[0m\u001b[0;34m\u001b[0m\u001b[0m\n",
      "\u001b[0;32m/home/benjello/openfisca/openfisca-core/openfisca_core/formulas.pyc\u001b[0m in \u001b[0;36mexec_function\u001b[0;34m(self, simulation, period, *extra_params)\u001b[0m\n\u001b[1;32m    527\u001b[0m             \u001b[0mlegislation\u001b[0m \u001b[0;34m=\u001b[0m \u001b[0msimulation\u001b[0m\u001b[0;34m.\u001b[0m\u001b[0mlegislation_at\u001b[0m\u001b[0;34m\u001b[0m\u001b[0m\n\u001b[1;32m    528\u001b[0m             \u001b[0;32mif\u001b[0m \u001b[0mfunction\u001b[0m\u001b[0;34m.\u001b[0m\u001b[0mfunc_code\u001b[0m\u001b[0;34m.\u001b[0m\u001b[0mco_argcount\u001b[0m \u001b[0;34m==\u001b[0m \u001b[0;36m2\u001b[0m\u001b[0;34m:\u001b[0m\u001b[0;34m\u001b[0m\u001b[0m\n\u001b[0;32m--> 529\u001b[0;31m                 \u001b[0;32mreturn\u001b[0m \u001b[0mfunction\u001b[0m\u001b[0;34m(\u001b[0m\u001b[0mentity\u001b[0m\u001b[0;34m,\u001b[0m \u001b[0mperiod\u001b[0m\u001b[0;34m)\u001b[0m\u001b[0;34m\u001b[0m\u001b[0m\n\u001b[0m\u001b[1;32m    530\u001b[0m             \u001b[0;32melse\u001b[0m\u001b[0;34m:\u001b[0m\u001b[0;34m\u001b[0m\u001b[0m\n\u001b[1;32m    531\u001b[0m                 \u001b[0;32mreturn\u001b[0m \u001b[0mfunction\u001b[0m\u001b[0;34m(\u001b[0m\u001b[0mentity\u001b[0m\u001b[0;34m,\u001b[0m \u001b[0mperiod\u001b[0m\u001b[0;34m,\u001b[0m \u001b[0mlegislation\u001b[0m\u001b[0;34m,\u001b[0m \u001b[0;34m*\u001b[0m\u001b[0mextra_params\u001b[0m\u001b[0;34m)\u001b[0m\u001b[0;34m\u001b[0m\u001b[0m\n",
      "\u001b[0;32m<ipython-input-14-351588cf0b46>\u001b[0m in \u001b[0;36mformula\u001b[0;34m(individu, period)\u001b[0m\n\u001b[1;32m     58\u001b[0m \u001b[0;34m\u001b[0m\u001b[0m\n\u001b[1;32m     59\u001b[0m     \u001b[0;32mdef\u001b[0m \u001b[0mformula\u001b[0m\u001b[0;34m(\u001b[0m\u001b[0mindividu\u001b[0m\u001b[0;34m,\u001b[0m \u001b[0mperiod\u001b[0m\u001b[0;34m)\u001b[0m\u001b[0;34m:\u001b[0m\u001b[0;34m\u001b[0m\u001b[0m\n\u001b[0;32m---> 60\u001b[0;31m         \u001b[0mimpot_avant_reduction_famille\u001b[0m \u001b[0;34m=\u001b[0m \u001b[0mindividu\u001b[0m\u001b[0;34m(\u001b[0m\u001b[0;34m'impot_avant_reduction_famille'\u001b[0m\u001b[0;34m,\u001b[0m \u001b[0mperiod\u001b[0m\u001b[0;34m)\u001b[0m\u001b[0;34m\u001b[0m\u001b[0m\n\u001b[0m\u001b[1;32m     61\u001b[0m         \u001b[0mreduction_impots_pour_charge_famille\u001b[0m \u001b[0;34m=\u001b[0m \u001b[0mindividu\u001b[0m\u001b[0;34m(\u001b[0m\u001b[0;34m'reduction_impots_pour_charge_famille'\u001b[0m\u001b[0;34m,\u001b[0m \u001b[0mperiod\u001b[0m\u001b[0;34m)\u001b[0m\u001b[0;34m\u001b[0m\u001b[0m\n\u001b[1;32m     62\u001b[0m         \u001b[0mimpot_apres_reduction_famille\u001b[0m \u001b[0;34m=\u001b[0m \u001b[0mimpot_avant_reduction_famille\u001b[0m \u001b[0;34m-\u001b[0m \u001b[0mreduction_impots_pour_charge_famille\u001b[0m\u001b[0;34m\u001b[0m\u001b[0m\n",
      "\u001b[0;32m/home/benjello/openfisca/openfisca-core/openfisca_core/entities.pyc\u001b[0m in \u001b[0;36m__call__\u001b[0;34m(self, variable_name, period, options, **parameters)\u001b[0m\n\u001b[1;32m    182\u001b[0m             \u001b[0;32mreturn\u001b[0m \u001b[0mself\u001b[0m\u001b[0;34m.\u001b[0m\u001b[0msimulation\u001b[0m\u001b[0;34m.\u001b[0m\u001b[0mcalculate_divide\u001b[0m\u001b[0;34m(\u001b[0m\u001b[0mvariable_name\u001b[0m\u001b[0;34m,\u001b[0m \u001b[0mperiod\u001b[0m\u001b[0;34m,\u001b[0m \u001b[0;34m**\u001b[0m\u001b[0mparameters\u001b[0m\u001b[0;34m)\u001b[0m\u001b[0;34m\u001b[0m\u001b[0m\n\u001b[1;32m    183\u001b[0m         \u001b[0;32melse\u001b[0m\u001b[0;34m:\u001b[0m\u001b[0;34m\u001b[0m\u001b[0m\n\u001b[0;32m--> 184\u001b[0;31m             \u001b[0;32mreturn\u001b[0m \u001b[0mself\u001b[0m\u001b[0;34m.\u001b[0m\u001b[0msimulation\u001b[0m\u001b[0;34m.\u001b[0m\u001b[0mcalculate\u001b[0m\u001b[0;34m(\u001b[0m\u001b[0mvariable_name\u001b[0m\u001b[0;34m,\u001b[0m \u001b[0mperiod\u001b[0m\u001b[0;34m,\u001b[0m \u001b[0;34m**\u001b[0m\u001b[0mparameters\u001b[0m\u001b[0;34m)\u001b[0m\u001b[0;34m\u001b[0m\u001b[0m\n\u001b[0m\u001b[1;32m    185\u001b[0m \u001b[0;34m\u001b[0m\u001b[0m\n\u001b[1;32m    186\u001b[0m     \u001b[0;31m# Helpers\u001b[0m\u001b[0;34m\u001b[0m\u001b[0;34m\u001b[0m\u001b[0m\n",
      "\u001b[0;32m/home/benjello/openfisca/openfisca-core/openfisca_core/simulations.pyc\u001b[0m in \u001b[0;36mcalculate\u001b[0;34m(self, column_name, period, **parameters)\u001b[0m\n\u001b[1;32m    109\u001b[0m \u001b[0;34m\u001b[0m\u001b[0m\n\u001b[1;32m    110\u001b[0m     \u001b[0;32mdef\u001b[0m \u001b[0mcalculate\u001b[0m\u001b[0;34m(\u001b[0m\u001b[0mself\u001b[0m\u001b[0;34m,\u001b[0m \u001b[0mcolumn_name\u001b[0m\u001b[0;34m,\u001b[0m \u001b[0mperiod\u001b[0m\u001b[0;34m,\u001b[0m \u001b[0;34m**\u001b[0m\u001b[0mparameters\u001b[0m\u001b[0;34m)\u001b[0m\u001b[0;34m:\u001b[0m\u001b[0;34m\u001b[0m\u001b[0m\n\u001b[0;32m--> 111\u001b[0;31m         \u001b[0;32mreturn\u001b[0m \u001b[0mself\u001b[0m\u001b[0;34m.\u001b[0m\u001b[0mcompute\u001b[0m\u001b[0;34m(\u001b[0m\u001b[0mcolumn_name\u001b[0m\u001b[0;34m,\u001b[0m \u001b[0mperiod\u001b[0m \u001b[0;34m=\u001b[0m \u001b[0mperiod\u001b[0m\u001b[0;34m,\u001b[0m \u001b[0;34m**\u001b[0m\u001b[0mparameters\u001b[0m\u001b[0;34m)\u001b[0m\u001b[0;34m.\u001b[0m\u001b[0marray\u001b[0m\u001b[0;34m\u001b[0m\u001b[0m\n\u001b[0m\u001b[1;32m    112\u001b[0m \u001b[0;34m\u001b[0m\u001b[0m\n\u001b[1;32m    113\u001b[0m     \u001b[0;32mdef\u001b[0m \u001b[0mcalculate_add\u001b[0m\u001b[0;34m(\u001b[0m\u001b[0mself\u001b[0m\u001b[0;34m,\u001b[0m \u001b[0mcolumn_name\u001b[0m\u001b[0;34m,\u001b[0m \u001b[0mperiod\u001b[0m\u001b[0;34m,\u001b[0m \u001b[0;34m**\u001b[0m\u001b[0mparameters\u001b[0m\u001b[0;34m)\u001b[0m\u001b[0;34m:\u001b[0m\u001b[0;34m\u001b[0m\u001b[0m\n",
      "\u001b[0;32m/home/benjello/openfisca/openfisca-core/openfisca_core/simulations.pyc\u001b[0m in \u001b[0;36mcompute\u001b[0;34m(self, column_name, period, **parameters)\u001b[0m\n\u001b[1;32m    164\u001b[0m                 \u001b[0mcaller_input_variables_infos\u001b[0m\u001b[0;34m.\u001b[0m\u001b[0mappend\u001b[0m\u001b[0;34m(\u001b[0m\u001b[0mvariable_infos\u001b[0m\u001b[0;34m)\u001b[0m\u001b[0;34m\u001b[0m\u001b[0m\n\u001b[1;32m    165\u001b[0m         \u001b[0mholder\u001b[0m \u001b[0;34m=\u001b[0m \u001b[0mself\u001b[0m\u001b[0;34m.\u001b[0m\u001b[0mget_variable_entity\u001b[0m\u001b[0;34m(\u001b[0m\u001b[0mcolumn_name\u001b[0m\u001b[0;34m)\u001b[0m\u001b[0;34m.\u001b[0m\u001b[0mget_holder\u001b[0m\u001b[0;34m(\u001b[0m\u001b[0mcolumn_name\u001b[0m\u001b[0;34m)\u001b[0m\u001b[0;34m\u001b[0m\u001b[0m\n\u001b[0;32m--> 166\u001b[0;31m         \u001b[0mresult\u001b[0m \u001b[0;34m=\u001b[0m \u001b[0mholder\u001b[0m\u001b[0;34m.\u001b[0m\u001b[0mcompute\u001b[0m\u001b[0;34m(\u001b[0m\u001b[0mperiod\u001b[0m \u001b[0;34m=\u001b[0m \u001b[0mperiod\u001b[0m\u001b[0;34m,\u001b[0m \u001b[0;34m**\u001b[0m\u001b[0mparameters\u001b[0m\u001b[0;34m)\u001b[0m\u001b[0;34m\u001b[0m\u001b[0m\n\u001b[0m\u001b[1;32m    167\u001b[0m         \u001b[0;32mreturn\u001b[0m \u001b[0mresult\u001b[0m\u001b[0;34m\u001b[0m\u001b[0m\n\u001b[1;32m    168\u001b[0m \u001b[0;34m\u001b[0m\u001b[0m\n",
      "\u001b[0;32m/home/benjello/openfisca/openfisca-core/openfisca_core/holders.pyc\u001b[0m in \u001b[0;36mcompute\u001b[0;34m(self, period, **parameters)\u001b[0m\n\u001b[1;32m    157\u001b[0m \u001b[0;34m\u001b[0m\u001b[0m\n\u001b[1;32m    158\u001b[0m         \u001b[0;31m# Request a computation\u001b[0m\u001b[0;34m\u001b[0m\u001b[0;34m\u001b[0m\u001b[0m\n\u001b[0;32m--> 159\u001b[0;31m         \u001b[0mdated_holder\u001b[0m \u001b[0;34m=\u001b[0m \u001b[0mself\u001b[0m\u001b[0;34m.\u001b[0m\u001b[0mformula\u001b[0m\u001b[0;34m.\u001b[0m\u001b[0mcompute\u001b[0m\u001b[0;34m(\u001b[0m\u001b[0mperiod\u001b[0m \u001b[0;34m=\u001b[0m \u001b[0mperiod\u001b[0m\u001b[0;34m,\u001b[0m \u001b[0;34m**\u001b[0m\u001b[0mparameters\u001b[0m\u001b[0;34m)\u001b[0m\u001b[0;34m\u001b[0m\u001b[0m\n\u001b[0m\u001b[1;32m    160\u001b[0m         \u001b[0mformula_dated_holder\u001b[0m \u001b[0;34m=\u001b[0m \u001b[0mself\u001b[0m\u001b[0;34m.\u001b[0m\u001b[0mput_in_cache\u001b[0m\u001b[0;34m(\u001b[0m\u001b[0mdated_holder\u001b[0m\u001b[0;34m.\u001b[0m\u001b[0marray\u001b[0m\u001b[0;34m,\u001b[0m \u001b[0mperiod\u001b[0m\u001b[0;34m,\u001b[0m \u001b[0mextra_params\u001b[0m\u001b[0;34m)\u001b[0m\u001b[0;34m\u001b[0m\u001b[0m\n\u001b[1;32m    161\u001b[0m         \u001b[0;32mreturn\u001b[0m \u001b[0mformula_dated_holder\u001b[0m\u001b[0;34m\u001b[0m\u001b[0m\n",
      "\u001b[0;32m/home/benjello/openfisca/openfisca-core/openfisca_core/formulas.pyc\u001b[0m in \u001b[0;36mcompute\u001b[0;34m(self, period, **parameters)\u001b[0m\n\u001b[1;32m    413\u001b[0m \u001b[0;34m\u001b[0m\u001b[0m\n\u001b[1;32m    414\u001b[0m         \u001b[0;32mtry\u001b[0m\u001b[0;34m:\u001b[0m\u001b[0;34m\u001b[0m\u001b[0m\n\u001b[0;32m--> 415\u001b[0;31m             \u001b[0mself\u001b[0m\u001b[0;34m.\u001b[0m\u001b[0mcheck_for_cycle\u001b[0m\u001b[0;34m(\u001b[0m\u001b[0mperiod\u001b[0m\u001b[0;34m)\u001b[0m\u001b[0;34m\u001b[0m\u001b[0m\n\u001b[0m\u001b[1;32m    416\u001b[0m             \u001b[0;32mif\u001b[0m \u001b[0mdebug\u001b[0m \u001b[0;32mor\u001b[0m \u001b[0mtrace\u001b[0m\u001b[0;34m:\u001b[0m\u001b[0;34m\u001b[0m\u001b[0m\n\u001b[1;32m    417\u001b[0m                 simulation.stack_trace.append(dict(\n",
      "\u001b[0;32m/home/benjello/openfisca/openfisca-core/openfisca_core/formulas.pyc\u001b[0m in \u001b[0;36mcheck_for_cycle\u001b[0;34m(self, period)\u001b[0m\n\u001b[1;32m    362\u001b[0m             \u001b[0;31m# It would be a pure circular definition.\u001b[0m\u001b[0;34m\u001b[0m\u001b[0;34m\u001b[0m\u001b[0m\n\u001b[1;32m    363\u001b[0m             \u001b[0mrequested_periods\u001b[0m \u001b[0;34m=\u001b[0m \u001b[0mrequested_periods_by_variable_name\u001b[0m\u001b[0;34m[\u001b[0m\u001b[0mvariable_name\u001b[0m\u001b[0;34m]\u001b[0m\u001b[0;34m\u001b[0m\u001b[0m\n\u001b[0;32m--> 364\u001b[0;31m             \u001b[0;32massert\u001b[0m \u001b[0mperiod\u001b[0m \u001b[0;32mnot\u001b[0m \u001b[0;32min\u001b[0m \u001b[0mrequested_periods\u001b[0m \u001b[0;32mand\u001b[0m \u001b[0;34m(\u001b[0m\u001b[0mcolumn\u001b[0m\u001b[0;34m.\u001b[0m\u001b[0mdefinition_period\u001b[0m \u001b[0;34m!=\u001b[0m \u001b[0mETERNITY\u001b[0m\u001b[0;34m)\u001b[0m\u001b[0;34m,\u001b[0m \u001b[0mget_error_message\u001b[0m\u001b[0;34m(\u001b[0m\u001b[0;34m)\u001b[0m\u001b[0;34m\u001b[0m\u001b[0m\n\u001b[0m\u001b[1;32m    365\u001b[0m             \u001b[0;32mif\u001b[0m \u001b[0msimulation\u001b[0m\u001b[0;34m.\u001b[0m\u001b[0mmax_nb_cycles\u001b[0m \u001b[0;32mis\u001b[0m \u001b[0mNone\u001b[0m \u001b[0;32mor\u001b[0m \u001b[0mlen\u001b[0m\u001b[0;34m(\u001b[0m\u001b[0mrequested_periods\u001b[0m\u001b[0;34m)\u001b[0m \u001b[0;34m>\u001b[0m \u001b[0msimulation\u001b[0m\u001b[0;34m.\u001b[0m\u001b[0mmax_nb_cycles\u001b[0m\u001b[0;34m:\u001b[0m\u001b[0;34m\u001b[0m\u001b[0m\n\u001b[1;32m    366\u001b[0m                 \u001b[0mmessage\u001b[0m \u001b[0;34m=\u001b[0m \u001b[0mget_error_message\u001b[0m\u001b[0;34m(\u001b[0m\u001b[0;34m)\u001b[0m\u001b[0;34m\u001b[0m\u001b[0m\n",
      "\u001b[0;31mAssertionError\u001b[0m: Circular definition detected on formula impot_avant_reduction_famille<2015>. Formulas and periods involved: impot_avant_reduction_famille<2015>, impot_revenus<2015>, reduction_impots_pour_charge_famille<2015>."
     ]
    }
   ],
   "source": [
    "simulation.individu('impot_revenus', period='2015')"
   ]
  },
  {
   "cell_type": "code",
   "execution_count": 22,
   "metadata": {
    "collapsed": false
   },
   "outputs": [
    {
     "data": {
      "text/plain": [
       "264000.0"
      ]
     },
     "execution_count": 22,
     "metadata": {},
     "output_type": "execute_result"
    }
   ],
   "source": [
    "(1500000 - 630000) * 0.2 + (1800000 - 1500000) * 0.3"
   ]
  },
  {
   "cell_type": "code",
   "execution_count": 23,
   "metadata": {
    "collapsed": false
   },
   "outputs": [
    {
     "data": {
      "text/plain": [
       "array([ 3.], dtype=float32)"
      ]
     },
     "execution_count": 23,
     "metadata": {},
     "output_type": "execute_result"
    }
   ],
   "source": [
    "simulation.individu('nombre_de_parts', period='2015')"
   ]
  },
  {
   "cell_type": "markdown",
   "metadata": {},
   "source": [
    "## Simuler plusieurs cas types à la fois"
   ]
  },
  {
   "cell_type": "code",
   "execution_count": null,
   "metadata": {
    "collapsed": false
   },
   "outputs": [],
   "source": [
    "import matplotlib.pyplot as plt\n",
    "%matplotlib inline"
   ]
  },
  {
   "cell_type": "code",
   "execution_count": null,
   "metadata": {
    "collapsed": false,
    "scrolled": false
   },
   "outputs": [],
   "source": [
    "scenario1 = tax_benefit_system.new_scenario()\n",
    "scenario1.init_single_entity(\n",
    "    parent1={\n",
    "        'est_marie': True,\n",
    "        'conjoint_a_des_revenus': False,\n",
    "        'nombre_enfants': 0,\n",
    "    },\n",
    "    period='2015',\n",
    "    axes=[\n",
    "        {\n",
    "            'count': 100,\n",
    "            'min': 0,\n",
    "            'max': 15e6,\n",
    "            'name': 'salaire',\n",
    "        }\n",
    "    ],\n",
    ")\n",
    "simulation1 = scenario1.new_simulation()\n",
    "\n",
    "salaire1 = simulation1.individu('salaire', period='2015')\n",
    "reduction_impots_pour_charge_famille1 = simulation1.individu('reduction_impots_pour_charge_famille', period='2015')\n",
    "impot_avant_reduction_famille1 = simulation1.individu('impot_avant_reduction_famille', period='2015')\n",
    "impot_revenus1 = simulation1.individu('impot_revenus', period='2015')"
   ]
  },
  {
   "cell_type": "code",
   "execution_count": null,
   "metadata": {
    "collapsed": false,
    "scrolled": false
   },
   "outputs": [],
   "source": [
    "plt.figure(figsize=(12, 8))\n",
    "plt.plot(salaire1, impot_avant_reduction_famille1, label=u'avant réduction famille')\n",
    "plt.plot(salaire1, reduction_impots_pour_charge_famille1, label=u'réduction famille')\n",
    "plt.plot(salaire1, impot_revenus1, label=u'impôt revenus')\n",
    "plt.xlabel(u'Salaire')\n",
    "plt.legend()\n",
    "plt.title(u'0 enfants', fontsize=20)"
   ]
  },
  {
   "cell_type": "code",
   "execution_count": null,
   "metadata": {
    "collapsed": false
   },
   "outputs": [],
   "source": [
    "scenario2 = tax_benefit_system.new_scenario()\n",
    "scenario2.init_single_entity(\n",
    "    parent1={\n",
    "        'est_marie': True,\n",
    "        'conjoint_a_des_revenus': False,\n",
    "        'nombre_enfants': 1,\n",
    "    },\n",
    "    period='2015',\n",
    "    axes=[\n",
    "        {\n",
    "            'count': 100,\n",
    "            'min': 0,\n",
    "            'max': 15e6,\n",
    "            'name': 'salaire',\n",
    "        }\n",
    "    ],\n",
    ")\n",
    "simulation2 = scenario2.new_simulation()\n",
    "\n",
    "salaire2 = simulation2.individu('salaire', period='2015')\n",
    "reduction_impots_pour_charge_famille2 = simulation2.individu('reduction_impots_pour_charge_famille', period='2015')\n",
    "impot_avant_reduction_famille2 = simulation2.individu('impot_avant_reduction_famille', period='2015')\n",
    "impot_revenus2 = simulation2.individu('impot_revenus', period='2015')"
   ]
  },
  {
   "cell_type": "code",
   "execution_count": null,
   "metadata": {
    "collapsed": false,
    "scrolled": false
   },
   "outputs": [],
   "source": [
    "plt.figure(figsize=(12, 8))\n",
    "plt.plot(salaire2, impot_avant_reduction_famille2, label=u'avant réduction famille')\n",
    "plt.plot(salaire2, reduction_impots_pour_charge_famille2, label=u'réduction famille')\n",
    "plt.plot(salaire2, impot_revenus2, label=u'impôt revenus')\n",
    "plt.xlabel(u'Salaire')\n",
    "plt.legend()\n",
    "plt.title(u'1 enfant', fontsize=20)"
   ]
  },
  {
   "cell_type": "code",
   "execution_count": null,
   "metadata": {
    "collapsed": false
   },
   "outputs": [],
   "source": [
    "impot_revenus_diff = np.abs(impot_revenus2 - impot_revenus1)\n",
    "plt.figure(figsize=(12, 8))\n",
    "plt.plot(salaire1, impot_revenus_diff, label=u'Différence d\\'impôt revenus')\n",
    "plt.xlabel(u'Salaire')\n",
    "plt.legend()\n",
    "plt.title(u'Gain fiscal du 1er enfant', fontsize=20)\n",
    "\n",
    "plot_margin = 10000\n",
    "x0, x1, y0, y1 = plt.axis()\n",
    "plt.axis((x0 - plot_margin, x1 + plot_margin, y0 - plot_margin, y1 + plot_margin))"
   ]
  },
  {
   "cell_type": "markdown",
   "metadata": {},
   "source": [
    "## Affichage des taux marginaux"
   ]
  },
  {
   "cell_type": "code",
   "execution_count": null,
   "metadata": {
    "collapsed": true
   },
   "outputs": [],
   "source": [
    "from openfisca_core import rates"
   ]
  },
  {
   "cell_type": "code",
   "execution_count": null,
   "metadata": {
    "collapsed": false
   },
   "outputs": [],
   "source": [
    "fig, ax1 = plt.subplots(figsize=(12, 8))\n",
    "\n",
    "ax1.plot(salaire1, impot_revenus1)\n",
    "ax1.set_xlabel(u'Salaire')\n",
    "ax1.set_ylabel(u'Impôt sur les revenus')\n",
    "\n",
    "ax2 = ax1.twinx()\n",
    "ax2.set_ylabel(u'Taux marginaux')\n",
    "ax2.plot(\n",
    "    salaire1[:-1],\n",
    "    1 - rates.marginal_rate(target=impot_revenus1, varying=salaire1),\n",
    ")"
   ]
  },
  {
   "cell_type": "code",
   "execution_count": null,
   "metadata": {
    "collapsed": true
   },
   "outputs": [],
   "source": []
  }
 ],
 "metadata": {
  "kernelspec": {
   "display_name": "Python 2",
   "language": "python",
   "name": "python2"
  },
  "language_info": {
   "codemirror_mode": {
    "name": "ipython",
    "version": 2
   },
   "file_extension": ".py",
   "mimetype": "text/x-python",
   "name": "python",
   "nbconvert_exporter": "python",
   "pygments_lexer": "ipython2",
   "version": "2.7.13"
  }
 },
 "nbformat": 4,
 "nbformat_minor": 0
}
